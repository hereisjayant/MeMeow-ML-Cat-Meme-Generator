{
  "nbformat": 4,
  "nbformat_minor": 0,
  "metadata": {
    "colab": {
      "name": "291_project_image_classification_V2_0 (1).ipynb",
      "provenance": [],
      "collapsed_sections": []
    },
    "kernelspec": {
      "name": "python3",
      "display_name": "Python 3"
    },
    "language_info": {
      "name": "python"
    },
    "accelerator": "GPU"
  },
  "cells": [
    {
      "cell_type": "code",
      "metadata": {
        "id": "660H2pjvw6cQ"
      },
      "source": [
        "# Manually upload zipped folder and unzip (also renamed it to image-datasets)\n",
        "!unzip /content/test-ds.zip"
      ],
      "execution_count": null,
      "outputs": []
    },
    {
      "cell_type": "code",
      "metadata": {
        "id": "zfp5JqPTuxgq"
      },
      "source": [
        "# !rm -r -f train-ds/\n",
        "# !rm -r -f test-ds/\n"
      ],
      "execution_count": null,
      "outputs": []
    },
    {
      "cell_type": "code",
      "metadata": {
        "colab": {
          "base_uri": "https://localhost:8080/"
        },
        "id": "LGTELAW-04oV",
        "outputId": "84a17c4b-95bd-488b-f33d-a30ec79db35c"
      },
      "source": [
        "!unzip angry_train.zip"
      ],
      "execution_count": null,
      "outputs": [
        {
          "output_type": "stream",
          "text": [
            "Archive:  angry_train.zip\n",
            "replace angry_test/00000000.jpg? [y]es, [n]o, [A]ll, [N]one, [r]ename: N\n",
            "  inflating: angry_train/00000005.jpg  \n",
            "  inflating: angry_train/00000012.jpg  \n",
            "  inflating: angry_train/00000017.jpg  \n",
            "  inflating: angry_train/00000022.jpg  \n",
            "  inflating: angry_train/00000030.jpg  \n",
            "  inflating: angry_train/00000037.jpg  \n",
            "  inflating: angry_train/00000043.jpg  \n",
            "  inflating: angry_train/00000049.jpg  \n",
            "  inflating: angry_train/00000055.jpg  \n",
            "  inflating: angry_train/00000061.jpg  \n",
            "  inflating: angry_train/00000068.jpg  \n",
            "  inflating: angry_train/00000075.jpg  \n",
            "  inflating: angry_train/00000079.jpg  \n",
            "  inflating: angry_train/00000081.jpg  \n",
            "  inflating: angry_train/00000083.jpg  \n",
            "  inflating: angry_train/00000085.jpg  \n",
            "  inflating: angry_train/00000086.jpg  \n",
            "  inflating: angry_train/00000090.jpg  \n",
            "  inflating: angry_train/00000092.jpg  \n",
            "  inflating: angry_train/00000093.jpg  \n",
            "  inflating: angry_train/00000094.jpg  \n",
            "  inflating: angry_train/00000096.jpg  \n",
            "  inflating: angry_train/00000098.jpg  \n",
            "  inflating: angry_train/00000099.jpg  \n",
            "  inflating: angry_train/00000100.jpg  \n",
            "  inflating: angry_train/00000101.jpg  \n",
            "  inflating: angry_train/00000102.jpg  \n",
            "  inflating: angry_train/00000103.jpg  \n",
            "  inflating: angry_train/00000104.jpg  \n",
            "  inflating: angry_train/00000108.jpg  \n",
            "  inflating: angry_train/00000113.jpg  \n",
            "  inflating: angry_train/00000115.jpg  \n",
            "  inflating: angry_train/00000118.jpg  \n",
            "  inflating: angry_train/00000121.jpg  \n",
            "  inflating: angry_train/00000122.jpg  \n",
            "  inflating: angry_train/00000124.jpg  \n",
            "  inflating: angry_train/00000125.jpg  \n",
            "  inflating: angry_train/00000126.jpg  \n",
            "  inflating: angry_train/00000129.jpg  \n",
            "  inflating: angry_train/00000131.jpg  \n",
            "  inflating: angry_train/00000133_023.jpg  \n",
            "  inflating: angry_train/00000134.jpg  \n",
            "  inflating: angry_train/00000134_005.jpg  \n",
            "  inflating: angry_train/00000136.jpg  \n",
            "  inflating: angry_train/00000137.jpg  \n",
            "  inflating: angry_train/00000138.jpg  \n",
            "  inflating: angry_train/00000139.jpg  \n",
            "  inflating: angry_train/00000141.jpg  \n",
            "  inflating: angry_train/00000144.jpg  \n",
            "  inflating: angry_train/00000145.jpg  \n",
            "  inflating: angry_train/00000149.jpg  \n",
            "  inflating: angry_train/00000149_013.jpg  \n",
            "  inflating: angry_train/00000151.jpg  \n",
            "  inflating: angry_train/00000152.jpg  \n",
            "  inflating: angry_train/00000153.jpg  \n",
            "  inflating: angry_train/00000156.jpg  \n",
            "  inflating: angry_train/00000158.jpg  \n",
            "  inflating: angry_train/00000159.jpg  \n",
            "  inflating: angry_train/00000161.jpg  \n",
            "  inflating: angry_train/00000164.jpg  \n",
            "  inflating: angry_train/00000165.jpg  \n",
            "  inflating: angry_train/00000166.jpg  \n",
            "  inflating: angry_train/00000167.jpg  \n",
            "  inflating: angry_train/00000169.jpg  \n",
            "  inflating: angry_train/00000172.jpg  \n",
            "  inflating: angry_train/00000173.jpg  \n",
            "  inflating: angry_train/00000182.jpg  \n",
            "  inflating: angry_train/00000188.jpg  \n",
            "  inflating: angry_train/00000192.jpg  \n",
            "  inflating: angry_train/00000197.jpg  \n",
            "  inflating: angry_train/00000198.jpg  \n",
            "  inflating: angry_train/00000199.jpg  \n",
            "  inflating: angry_train/00000200.jpg  \n",
            "  inflating: angry_train/00000201.jpg  \n",
            "  inflating: angry_train/00000202.jpg  \n",
            "  inflating: angry_train/00000205.jpg  \n",
            "  inflating: angry_train/00000211.jpg  \n",
            "  inflating: angry_train/00000212.jpg  \n",
            "  inflating: angry_train/00000219.jpg  \n",
            "  inflating: angry_train/00000225.jpg  \n",
            "  inflating: angry_train/00000227.jpg  \n",
            "  inflating: angry_train/00000228.jpg  \n",
            "  inflating: angry_train/00000229.jpg  \n",
            "  inflating: angry_train/00000230.jpg  \n",
            "  inflating: angry_train/00000232.jpg  \n",
            "  inflating: angry_train/00000233.jpg  \n",
            "  inflating: angry_train/00000235.jpg  \n",
            "  inflating: angry_train/00000237.jpg  \n",
            "  inflating: angry_train/00000239.jpg  \n",
            "  inflating: angry_train/00000243.jpg  \n",
            "  inflating: angry_train/00000244.jpg  \n",
            "  inflating: angry_train/00000246.jpg  \n",
            "  inflating: angry_train/00000249.jpg  \n",
            "  inflating: angry_train/00000250.jpg  \n",
            "  inflating: angry_train/00000256.jpg  \n",
            "  inflating: angry_train/00000259.jpg  \n",
            "  inflating: angry_train/00000263.jpg  \n",
            "  inflating: angry_train/00000267.jpg  \n",
            "  inflating: angry_train/00000272.jpg  \n",
            "  inflating: angry_train/00000277.jpg  \n",
            "  inflating: angry_train/00000278.jpg  \n",
            "  inflating: angry_train/00000284.jpg  \n",
            "  inflating: angry_train/00000285.jpg  \n",
            "  inflating: angry_train/00000286.jpg  \n",
            "  inflating: angry_train/00000288.jpg  \n",
            "  inflating: angry_train/00000293.jpg  \n",
            "  inflating: angry_train/00000294.jpg  \n",
            "  inflating: angry_train/00000305.jpg  \n",
            "  inflating: angry_train/00000310.jpg  \n",
            "  inflating: angry_train/00000311.jpg  \n",
            "  inflating: angry_train/00000312.jpg  \n",
            "  inflating: angry_train/00000315.jpg  \n",
            "  inflating: angry_train/00000317.jpg  \n",
            "  inflating: angry_train/00000318_029.jpg  \n",
            "  inflating: angry_train/00000320.jpg  \n",
            "  inflating: angry_train/00000322.jpg  \n",
            "  inflating: angry_train/00000323.jpg  \n",
            "  inflating: angry_train/00000324.jpg  \n",
            "  inflating: angry_train/00000327.jpg  \n",
            "  inflating: angry_train/00000329.jpg  \n",
            "  inflating: angry_train/00000331.jpg  \n",
            "  inflating: angry_train/00000333.jpg  \n",
            "  inflating: angry_train/00000334.jpg  \n",
            "  inflating: angry_train/00000341.jpg  \n",
            "  inflating: angry_train/00000344.jpg  \n",
            "  inflating: angry_train/00000346_029.jpg  \n",
            "  inflating: angry_train/00000347.jpg  \n",
            "  inflating: angry_train/00000351.jpg  \n",
            "  inflating: angry_train/00000364.jpg  \n",
            "  inflating: angry_train/00000365.jpg  \n",
            "  inflating: angry_train/00000366.jpg  \n",
            "  inflating: angry_train/00000369.jpg  \n",
            "  inflating: angry_train/00000370.jpg  \n",
            " extracting: angry_train/00000371.jpg  \n",
            "  inflating: angry_train/00000372.jpg  \n",
            "  inflating: angry_train/00000373.jpg  \n",
            "  inflating: angry_train/00000380.jpg  \n",
            "  inflating: angry_train/00000384.jpg  \n",
            "  inflating: angry_train/00000387.jpg  \n",
            "  inflating: angry_train/00000388.jpg  \n",
            "  inflating: angry_train/00000391.jpg  \n",
            "  inflating: angry_train/00000393.jpg  \n",
            "  inflating: angry_train/00000409.jpg  \n",
            "  inflating: angry_train/00000412.jpg  \n",
            "  inflating: angry_train/00000415.jpg  \n",
            "  inflating: angry_train/00000416.jpg  \n",
            "  inflating: angry_train/00000417.jpg  \n",
            "  inflating: angry_train/00000418.jpg  \n",
            "  inflating: angry_train/00000421.jpg  \n",
            "  inflating: angry_train/00000422.jpg  \n",
            "  inflating: angry_train/00000423.jpg  \n",
            "  inflating: angry_train/00000424.jpg  \n",
            "  inflating: angry_train/00000426.jpg  \n",
            "  inflating: angry_train/00000427.jpg  \n",
            "  inflating: angry_train/00000429.jpg  \n",
            "  inflating: angry_train/00000431.jpg  \n",
            "  inflating: angry_train/00000440.jpg  \n",
            "  inflating: angry_train/00000442.jpg  \n",
            "  inflating: angry_train/00000444.jpg  \n",
            "  inflating: angry_train/00000455.jpg  \n",
            "  inflating: angry_train/00000459.jpg  \n",
            "  inflating: angry_train/00000463.jpg  \n",
            "  inflating: angry_train/00000465.jpg  \n",
            "  inflating: angry_train/00000469.jpg  \n",
            "  inflating: angry_train/00000472.jpg  \n",
            "  inflating: angry_train/00000475.jpg  \n",
            "  inflating: angry_train/00000476.jpg  \n",
            "  inflating: angry_train/00000477.jpg  \n",
            "  inflating: angry_train/00000479.jpg  \n",
            "  inflating: angry_train/00000480.jpg  \n",
            "  inflating: angry_train/00000482.jpg  \n",
            "  inflating: angry_train/00000483.jpg  \n",
            "  inflating: angry_train/00000487.jpg  \n",
            "  inflating: angry_train/00000490.jpg  \n",
            "  inflating: angry_train/00000498.jpg  \n",
            "  inflating: angry_train/00000500.jpg  \n",
            "  inflating: angry_train/00000503.jpg  \n",
            "  inflating: angry_train/00000505.jpg  \n",
            "  inflating: angry_train/00000506.jpg  \n",
            "  inflating: angry_train/00000514.jpg  \n",
            "  inflating: angry_train/00000515.jpg  \n",
            "  inflating: angry_train/00000516.jpg  \n",
            "  inflating: angry_train/00000518.jpg  \n",
            "  inflating: angry_train/00000520.jpg  \n",
            "  inflating: angry_train/00000522.jpg  \n",
            "  inflating: angry_train/00000524.jpg  \n",
            "  inflating: angry_train/00000526.jpg  \n",
            "  inflating: angry_train/00000529.jpg  \n",
            "  inflating: angry_train/00000530.jpg  \n",
            "  inflating: angry_train/00000534.jpg  \n",
            "  inflating: angry_train/00000536.jpg  \n",
            "  inflating: angry_train/00000541.jpg  \n",
            "  inflating: angry_train/00000547.jpg  \n",
            "  inflating: angry_train/00000548.jpg  \n",
            "  inflating: angry_train/00000550.jpg  \n",
            "  inflating: angry_train/00000552.jpg  \n",
            "  inflating: angry_train/00000555.jpg  \n",
            "  inflating: angry_train/00000557.jpg  \n",
            "  inflating: angry_train/00000559.jpg  \n",
            "  inflating: angry_train/00000560.jpg  \n",
            "  inflating: angry_train/00000561.jpg  \n",
            "  inflating: angry_train/00000562.jpg  \n",
            "  inflating: angry_train/00000565.jpg  \n",
            "  inflating: angry_train/00000567.jpg  \n",
            "  inflating: angry_train/00000570.jpg  \n",
            "  inflating: angry_train/00000571.jpg  \n",
            "  inflating: angry_train/00000572.jpg  \n",
            "  inflating: angry_train/00000574.jpg  \n",
            "  inflating: angry_train/00000578.jpg  \n",
            "  inflating: angry_train/00000586.jpg  \n",
            "  inflating: angry_train/00000587.jpg  \n",
            "  inflating: angry_train/00000588.jpg  \n",
            "  inflating: angry_train/00000591.jpg  \n",
            "  inflating: angry_train/00000594.jpg  \n",
            "  inflating: angry_train/00000597.jpg  \n",
            "  inflating: angry_train/00000600.jpg  \n",
            "  inflating: angry_train/00000603.jpg  \n",
            "  inflating: angry_train/00000606.jpg  \n",
            "  inflating: angry_train/00000607.jpg  \n",
            "  inflating: angry_train/00000609.jpg  \n",
            "  inflating: angry_train/00000615.jpg  \n",
            "  inflating: angry_train/00000616.jpg  \n",
            "  inflating: angry_train/00000617.jpg  \n",
            "  inflating: angry_train/00000619.jpg  \n",
            "  inflating: angry_train/00000620.jpg  \n",
            "  inflating: angry_train/00000633.jpg  \n",
            "  inflating: angry_train/00000634.jpg  \n",
            "  inflating: angry_train/00000641.jpg  \n",
            "  inflating: angry_train/00000645.jpg  \n",
            "  inflating: angry_train/00000647.jpg  \n",
            "  inflating: angry_train/00000648.jpg  \n",
            "\n",
            "  inflating: angry_train/00000649.jpg  \n",
            "  inflating: angry_train/00001305_010.jpg  \n",
            "  inflating: angry_train/00001306_015.jpg  \n",
            "  inflating: angry_train/00001315_015.jpg  \n",
            "  inflating: angry_train/00001316_003.jpg  \n",
            "  inflating: angry_train/00001318_005.jpg  \n",
            "  inflating: angry_train/00001318_024.jpg  \n",
            "  inflating: angry_train/00001343_029.jpg  \n",
            "  inflating: angry_train/00001344_001.jpg  \n"
          ],
          "name": "stdout"
        }
      ]
    },
    {
      "cell_type": "code",
      "metadata": {
        "id": "teLVpLrrz7Id"
      },
      "source": [
        "!cp -R angry_train train-ds"
      ],
      "execution_count": null,
      "outputs": []
    },
    {
      "cell_type": "code",
      "metadata": {
        "id": "eKslp4w50xuS"
      },
      "source": [
        "!unzip angry_test.zip"
      ],
      "execution_count": null,
      "outputs": []
    },
    {
      "cell_type": "code",
      "metadata": {
        "id": "rn9fJji_0nKn"
      },
      "source": [
        "!cp -R angry_test test-ds"
      ],
      "execution_count": null,
      "outputs": []
    },
    {
      "cell_type": "code",
      "metadata": {
        "id": "Hump4L0sHZWm"
      },
      "source": [
        "!unzip /content/train-ds.zip"
      ],
      "execution_count": null,
      "outputs": []
    },
    {
      "cell_type": "code",
      "metadata": {
        "id": "evaXubJr0Zoa"
      },
      "source": [
        "import requests, re, time\n",
        "import torch, torchvision\n",
        "\n",
        "from torch import nn, optim\n",
        "from torchvision import datasets, models, transforms\n",
        "import matplotlib.pyplot as plt\n",
        "\n",
        "from torch.utils.mobile_optimizer import optimize_for_mobile"
      ],
      "execution_count": null,
      "outputs": []
    },
    {
      "cell_type": "code",
      "metadata": {
        "id": "IVfWqxmmyChh"
      },
      "source": [
        "xform = transforms.Compose([transforms.Resize((224,224)), transforms.ToTensor(), transforms.Normalize([0.5, 0.5, 0.5], [0.5, 0.5, 0.5])])\n",
        "# dataset_full = datasets.ImageFolder('/content/image-datasets', transform=xform)"
      ],
      "execution_count": null,
      "outputs": []
    },
    {
      "cell_type": "code",
      "metadata": {
        "id": "dSwzOwgNPfnT"
      },
      "source": [
        "# In case we need more data:\n",
        "# yform = transforms.Compose([transforms.Resize((224,224)), transforms.ToTensor(), transforms.RandomGrayscale(1), transforms.RandomHorizontalFlip(1)])"
      ],
      "execution_count": null,
      "outputs": []
    },
    {
      "cell_type": "markdown",
      "metadata": {
        "id": "m5NB77PX6LHF"
      },
      "source": [
        "Labels for angry=0;\n",
        "happy=1;\n",
        "sad=2;\n",
        "sleepy=3\n"
      ]
    },
    {
      "cell_type": "code",
      "metadata": {
        "id": "8CaxjpdL52iQ"
      },
      "source": [
        "#n_all = len(dataset_full)\n",
        "#n_train = int(0.8 * n_all)\n",
        "#n_test = n_all - n_train\n",
        "#rng = torch.Generator().manual_seed(906)\n",
        "dataset_train = datasets.ImageFolder('/content/train-ds', transform=xform)\n",
        "dataset_test = datasets.ImageFolder('/content/test-ds', transform=xform)"
      ],
      "execution_count": null,
      "outputs": []
    },
    {
      "cell_type": "code",
      "metadata": {
        "colab": {
          "base_uri": "https://localhost:8080/",
          "height": 677
        },
        "id": "nd55YW-2y9Mz",
        "outputId": "b617f3d8-019b-4f6d-9483-0820b0e5403c"
      },
      "source": [
        "plt.imshow(dataset_train[243][0].permute(1,2,0))\n",
        "dataset_train[243]"
      ],
      "execution_count": null,
      "outputs": [
        {
          "output_type": "stream",
          "text": [
            "Clipping input data to the valid range for imshow with RGB data ([0..1] for floats or [0..255] for integers).\n"
          ],
          "name": "stderr"
        },
        {
          "output_type": "execute_result",
          "data": {
            "text/plain": [
              "(tensor([[[ 0.4824,  0.4902,  0.4902,  ...,  0.1529,  0.0980,  0.0196],\n",
              "          [ 0.3490,  0.3569,  0.3569,  ...,  0.1451,  0.0902,  0.0118],\n",
              "          [ 0.1608,  0.1686,  0.1765,  ...,  0.1373,  0.0745,  0.0039],\n",
              "          ...,\n",
              "          [-0.0275, -0.0275, -0.0039,  ...,  0.3725,  0.3569,  0.3412],\n",
              "          [-0.0510, -0.0510, -0.0431,  ...,  0.3725,  0.3490,  0.3176],\n",
              "          [-0.0588, -0.0667, -0.0667,  ...,  0.3490,  0.3255,  0.2863]],\n",
              " \n",
              "         [[ 0.6000,  0.6078,  0.6078,  ...,  0.2471,  0.2157,  0.1529],\n",
              "          [ 0.4980,  0.4980,  0.5059,  ...,  0.2392,  0.2078,  0.1529],\n",
              "          [ 0.3098,  0.3176,  0.3255,  ...,  0.2235,  0.2000,  0.1373],\n",
              "          ...,\n",
              "          [-0.0275, -0.0196,  0.0039,  ...,  0.3882,  0.3725,  0.3569],\n",
              "          [-0.0353, -0.0353, -0.0275,  ...,  0.3882,  0.3647,  0.3333],\n",
              "          [-0.0431, -0.0510, -0.0510,  ...,  0.3647,  0.3412,  0.3020]],\n",
              " \n",
              "         [[ 0.6863,  0.6863,  0.6941,  ...,  0.3020,  0.2863,  0.2314],\n",
              "          [ 0.5922,  0.5922,  0.6000,  ...,  0.2941,  0.2784,  0.2314],\n",
              "          [ 0.4118,  0.4196,  0.4275,  ...,  0.2784,  0.2706,  0.2392],\n",
              "          ...,\n",
              "          [-0.0431, -0.0353, -0.0118,  ...,  0.3490,  0.3333,  0.3176],\n",
              "          [-0.0588, -0.0588, -0.0510,  ...,  0.3490,  0.3255,  0.2941],\n",
              "          [-0.0667, -0.0745, -0.0745,  ...,  0.3255,  0.3020,  0.2627]]]), 1)"
            ]
          },
          "metadata": {
            "tags": []
          },
          "execution_count": 5
        },
        {
          "output_type": "display_data",
          "data": {
            "image/png": "[encoded data removed]",
            "text/plain": [
              "<Figure size 432x288 with 1 Axes>"
            ]
          },
          "metadata": {
            "tags": [],
            "needs_background": "light"
          }
        }
      ]
    },
    {
      "cell_type": "code",
      "metadata": {
        "id": "joU3pYgrzECe",
        "colab": {
          "base_uri": "https://localhost:8080/"
        },
        "outputId": "2ff85843-4d87-4690-8eff-95f80a6c2b7f"
      },
      "source": [
        "dataset_train[0][1]"
      ],
      "execution_count": null,
      "outputs": [
        {
          "output_type": "execute_result",
          "data": {
            "text/plain": [
              "0"
            ]
          },
          "metadata": {
            "tags": []
          },
          "execution_count": 6
        }
      ]
    },
    {
      "cell_type": "code",
      "metadata": {
        "colab": {
          "base_uri": "https://localhost:8080/",
          "height": 303
        },
        "id": "QdsDyb01yhiu",
        "outputId": "3c722900-2386-4879-d3b8-63405d6d91d1"
      },
      "source": [
        "# Checking contents:\n",
        "plt.imshow(dataset_train[560][0].permute(1,2,0))"
      ],
      "execution_count": null,
      "outputs": [
        {
          "output_type": "stream",
          "text": [
            "Clipping input data to the valid range for imshow with RGB data ([0..1] for floats or [0..255] for integers).\n"
          ],
          "name": "stderr"
        },
        {
          "output_type": "execute_result",
          "data": {
            "text/plain": [
              "<matplotlib.image.AxesImage at 0x7f849549f490>"
            ]
          },
          "metadata": {
            "tags": []
          },
          "execution_count": 7
        },
        {
          "output_type": "display_data",
          "data": {
            "image/png": "[encoded data removed]",
            "text/plain": [
              "<Figure size 432x288 with 1 Axes>"
            ]
          },
          "metadata": {
            "tags": [],
            "needs_background": "light"
          }
        }
      ]
    },
    {
      "cell_type": "code",
      "metadata": {
        "colab": {
          "base_uri": "https://localhost:8080/"
        },
        "id": "MMNplS10NYZn",
        "outputId": "bbc73712-8f47-4251-a704-617ff5a44155"
      },
      "source": [
        "dataset_train[560]"
      ],
      "execution_count": null,
      "outputs": [
        {
          "output_type": "execute_result",
          "data": {
            "text/plain": [
              "(tensor([[[-0.9216, -0.9216, -0.9216,  ..., -0.9059, -0.9216, -0.8980],\n",
              "          [-0.9216, -0.9216, -0.9216,  ..., -0.9137, -0.9216, -0.9137],\n",
              "          [-0.9216, -0.9216, -0.9216,  ..., -0.9137, -0.9216, -0.9216],\n",
              "          ...,\n",
              "          [-0.8588, -0.9529, -0.9529,  ..., -0.9294, -0.9373, -0.9373],\n",
              "          [-0.8588, -0.9608, -0.9686,  ..., -0.9451, -0.9451, -0.9529],\n",
              "          [-0.7412, -0.9686, -0.9608,  ..., -0.9451, -0.9451, -0.9529]],\n",
              " \n",
              "         [[-0.9451, -0.9451, -0.9451,  ..., -0.9216, -0.9137, -0.8902],\n",
              "          [-0.9451, -0.9451, -0.9451,  ..., -0.9216, -0.9137, -0.9059],\n",
              "          [-0.9451, -0.9451, -0.9451,  ..., -0.9137, -0.9137, -0.9137],\n",
              "          ...,\n",
              "          [-0.8510, -0.9451, -0.9451,  ..., -0.9216, -0.9294, -0.9294],\n",
              "          [-0.8510, -0.9529, -0.9608,  ..., -0.9373, -0.9373, -0.9451],\n",
              "          [-0.7412, -0.9608, -0.9608,  ..., -0.9373, -0.9373, -0.9451]],\n",
              " \n",
              "         [[-1.0000, -1.0000, -1.0000,  ..., -0.9608, -0.9608, -0.9294],\n",
              "          [-1.0000, -1.0000, -1.0000,  ..., -0.9608, -0.9529, -0.9451],\n",
              "          [-1.0000, -1.0000, -1.0000,  ..., -0.9529, -0.9608, -0.9529],\n",
              "          ...,\n",
              "          [-0.8980, -0.9922, -0.9922,  ..., -0.9922, -0.9922, -0.9922],\n",
              "          [-0.8902, -0.9922, -0.9922,  ..., -0.9922, -0.9922, -0.9922],\n",
              "          [-0.7647, -0.9843, -0.9765,  ..., -0.9843, -0.9843, -0.9922]]]), 2)"
            ]
          },
          "metadata": {
            "tags": []
          },
          "execution_count": 8
        }
      ]
    },
    {
      "cell_type": "markdown",
      "metadata": {
        "id": "z6Ewfm4I4TrW"
      },
      "source": [
        "0 -> angry\n",
        "1 -> happy\n",
        "2 -> sad"
      ]
    },
    {
      "cell_type": "code",
      "metadata": {
        "colab": {
          "base_uri": "https://localhost:8080/"
        },
        "id": "frwp4AoFT4Pd",
        "outputId": "3f2a721a-112d-46ae-cd81-6b43aa08c370"
      },
      "source": [
        "dataset_test[62][0].shape"
      ],
      "execution_count": null,
      "outputs": [
        {
          "output_type": "execute_result",
          "data": {
            "text/plain": [
              "torch.Size([3, 224, 224])"
            ]
          },
          "metadata": {
            "tags": []
          },
          "execution_count": 9
        }
      ]
    },
    {
      "cell_type": "code",
      "metadata": {
        "colab": {
          "base_uri": "https://localhost:8080/",
          "height": 303
        },
        "id": "7dA-S_WdyiTm",
        "outputId": "dd5475bd-d8df-44cc-e238-675b2b371107"
      },
      "source": [
        "# Checking contents:\n",
        "plt.imshow(dataset_test[46][0].permute(1,2,0))"
      ],
      "execution_count": null,
      "outputs": [
        {
          "output_type": "stream",
          "text": [
            "Clipping input data to the valid range for imshow with RGB data ([0..1] for floats or [0..255] for integers).\n"
          ],
          "name": "stderr"
        },
        {
          "output_type": "execute_result",
          "data": {
            "text/plain": [
              "<matplotlib.image.AxesImage at 0x7f8496170610>"
            ]
          },
          "metadata": {
            "tags": []
          },
          "execution_count": 10
        },
        {
          "output_type": "display_data",
          "data": {
            "image/png": "[encoded data removed]",
            "text/plain": [
              "<Figure size 432x288 with 1 Axes>"
            ]
          },
          "metadata": {
            "tags": [],
            "needs_background": "light"
          }
        }
      ]
    },
    {
      "cell_type": "code",
      "metadata": {
        "id": "WwCNKJhW9PLY"
      },
      "source": [
        "#dataset_test_correctlabel=[(sample,label-1) for sample,label in dataset_test]\n",
        "#dataset_train_correctlabel=[(sample,label-1) for sample,label in dataset_train]"
      ],
      "execution_count": null,
      "outputs": []
    },
    {
      "cell_type": "code",
      "metadata": {
        "id": "rk9I7OOi6QXc"
      },
      "source": [
        "loader_train = torch.utils.data.DataLoader(dataset_train, batch_size = 4, shuffle=True)\n",
        "loader_test = torch.utils.data.DataLoader(dataset_test, batch_size = 4, shuffle=True)"
      ],
      "execution_count": null,
      "outputs": []
    },
    {
      "cell_type": "code",
      "metadata": {
        "id": "iKauHhuB65rt"
      },
      "source": [
        "model = models.resnet18(pretrained=True)"
      ],
      "execution_count": null,
      "outputs": []
    },
    {
      "cell_type": "code",
      "metadata": {
        "colab": {
          "base_uri": "https://localhost:8080/"
        },
        "id": "8LehpBi26_o_",
        "outputId": "c1be82bc-6c8c-4e55-a0be-77929323d776"
      },
      "source": [
        "model.fc"
      ],
      "execution_count": null,
      "outputs": [
        {
          "output_type": "execute_result",
          "data": {
            "text/plain": [
              "Linear(in_features=512, out_features=1000, bias=True)"
            ]
          },
          "metadata": {
            "tags": []
          },
          "execution_count": 14
        }
      ]
    },
    {
      "cell_type": "code",
      "metadata": {
        "colab": {
          "base_uri": "https://localhost:8080/"
        },
        "id": "qtKds9h-7Ab6",
        "outputId": "315c558f-f774-4e3d-e27b-dbdd698d78a8"
      },
      "source": [
        "model.fc = nn.Linear(model.fc.in_features, 2)\n",
        "torch.nn.init.xavier_uniform_(model.fc.weight)"
      ],
      "execution_count": null,
      "outputs": [
        {
          "output_type": "execute_result",
          "data": {
            "text/plain": [
              "Parameter containing:\n",
              "tensor([[-0.0969,  0.1077, -0.0789,  ...,  0.0443,  0.0078, -0.0521],\n",
              "        [-0.0794,  0.0150, -0.0524,  ...,  0.0339, -0.0407,  0.0268]],\n",
              "       requires_grad=True)"
            ]
          },
          "metadata": {
            "tags": []
          },
          "execution_count": 15
        }
      ]
    },
    {
      "cell_type": "code",
      "metadata": {
        "colab": {
          "base_uri": "https://localhost:8080/"
        },
        "id": "aIdwgd067AWt",
        "outputId": "380683e4-2f52-4d5a-ddda-14b6d98876f4"
      },
      "source": [
        "torch.cuda.device_count()"
      ],
      "execution_count": null,
      "outputs": [
        {
          "output_type": "execute_result",
          "data": {
            "text/plain": [
              "1"
            ]
          },
          "metadata": {
            "tags": []
          },
          "execution_count": 16
        }
      ]
    },
    {
      "cell_type": "code",
      "metadata": {
        "id": "1ysBS7qM7r36"
      },
      "source": [
        "device = torch.device('cuda')\n",
        "model = model.to(device)"
      ],
      "execution_count": null,
      "outputs": []
    },
    {
      "cell_type": "code",
      "metadata": {
        "id": "OhGKZa6D_2cJ"
      },
      "source": [
        "# Created class that takes learning rate, momentum factor, learning rate scheduler, and minibatch size to easily change variables and experiment for Task 5\n",
        "class TransferLearning:\n",
        "\n",
        "\n",
        "   def __init__(self, learning_rate, momentum_factor, learning_rate_scheduler, minibatch_size, stepSize):\n",
        "     self.criterion = nn.CrossEntropyLoss()\n",
        "     self.optimizer = optim.AdamW(model.parameters(), lr=learning_rate)\n",
        "     self.scheduler = optim.lr_scheduler.StepLR(self.optimizer, step_size=stepSize, gamma=learning_rate_scheduler)\n",
        "     self.loss_test = 0;\n",
        "     self.epoch_num = 0;\n",
        "  \n",
        "   def run_test(self, model):\n",
        "     nsamples_test = len(dataset_test)\n",
        "     loss, correct = 0, 0\n",
        "     model.eval()\n",
        "     with torch.no_grad():\n",
        "         for samples, labels in loader_test:\n",
        "             samples = samples.to(device)\n",
        "             labels = labels.to(device)\n",
        "             outs = model(samples)\n",
        "             loss += self.criterion(outs, labels)\n",
        "             _, preds = torch.max(outs.detach(), 1)\n",
        "             correct_mask = preds == labels\n",
        "             correct += correct_mask.sum(0).item()\n",
        "     return loss / nsamples_test, correct / nsamples_test\n",
        "\n",
        "   def run_train(self, model):\n",
        "     nsamples_train = len(dataset_train)\n",
        "     loss_sofar, correct_sofar = 0, 0\n",
        "     model.train()\n",
        "     with torch.enable_grad():\n",
        "         for samples, labels in loader_train:\n",
        "             samples = samples.to(device)\n",
        "             labels = labels.to(device)\n",
        "             self.optimizer.zero_grad()\n",
        "             outs = model(samples)\n",
        "             _, preds = torch.max(outs.detach(), 1)\n",
        "             loss = self.criterion(outs, labels)\n",
        "             loss.backward()\n",
        "             self.optimizer.step()\n",
        "             loss_sofar += loss.item() * samples.size(0)\n",
        "             correct_sofar += torch.sum(preds == labels.detach())\n",
        "     self.scheduler.step()\n",
        "     return loss_sofar / nsamples_train, correct_sofar / nsamples_train\n",
        "\n",
        "   def run_all(self, model, n_epochs):\n",
        "     for epoch in range(n_epochs):\n",
        "         loss_train, acc_train = self.run_train(model)\n",
        "         self.loss_test, acc_test = self.run_test(model)\n",
        "         print(f\"epoch {self.epoch_num + epoch}: train loss {loss_train:.4f} acc {acc_train:.4f}, test loss {self.loss_test:.4f} acc {acc_test:.4f}\")\n",
        "     self.epoch_num = self.epoch_num + n_epochs"
      ],
      "execution_count": null,
      "outputs": []
    },
    {
      "cell_type": "code",
      "metadata": {
        "id": "m4kHDK-3_-iv"
      },
      "source": [
        "# accuracy without training\n",
        "learn = TransferLearning(0.0001, 0.8, 0.001, 32 , 0.01)\n",
        "# learn.run_test(model)"
      ],
      "execution_count": null,
      "outputs": []
    },
    {
      "cell_type": "code",
      "metadata": {
        "id": "43_vTlwTQKa6",
        "colab": {
          "base_uri": "https://localhost:8080/",
          "height": 510
        },
        "outputId": "62f91711-b281-4bb7-a9f1-f335274424f0"
      },
      "source": [
        "#learn.run_all(model, 1)\n",
        "prev_loss = learn.loss_test\n",
        "\n",
        "while True:\n",
        "  learn.run_all(model, 1)\n",
        "  loss_difference = prev_loss - learn.loss_test\n",
        "  if (learn.epoch_num > 3):\n",
        "    break\n",
        "  prev_loss = learn.loss_test"
      ],
      "execution_count": null,
      "outputs": [
        {
          "output_type": "error",
          "ename": "RuntimeError",
          "evalue": "ignored",
          "traceback": [
            "\u001b[0;31m---------------------------------------------------------------------------\u001b[0m",
            "\u001b[0;31mRuntimeError\u001b[0m                              Traceback (most recent call last)",
            "\u001b[0;32m<ipython-input-23-cdaf6c51d42d>\u001b[0m in \u001b[0;36m<module>\u001b[0;34m()\u001b[0m\n\u001b[1;32m      3\u001b[0m \u001b[0;34m\u001b[0m\u001b[0m\n\u001b[1;32m      4\u001b[0m \u001b[0;32mwhile\u001b[0m \u001b[0;32mTrue\u001b[0m\u001b[0;34m:\u001b[0m\u001b[0;34m\u001b[0m\u001b[0;34m\u001b[0m\u001b[0m\n\u001b[0;32m----> 5\u001b[0;31m   \u001b[0mlearn\u001b[0m\u001b[0;34m.\u001b[0m\u001b[0mrun_all\u001b[0m\u001b[0;34m(\u001b[0m\u001b[0mmodel\u001b[0m\u001b[0;34m,\u001b[0m \u001b[0;36m1\u001b[0m\u001b[0;34m)\u001b[0m\u001b[0;34m\u001b[0m\u001b[0;34m\u001b[0m\u001b[0m\n\u001b[0m\u001b[1;32m      6\u001b[0m   \u001b[0mloss_difference\u001b[0m \u001b[0;34m=\u001b[0m \u001b[0mprev_loss\u001b[0m \u001b[0;34m-\u001b[0m \u001b[0mlearn\u001b[0m\u001b[0;34m.\u001b[0m\u001b[0mloss_test\u001b[0m\u001b[0;34m\u001b[0m\u001b[0;34m\u001b[0m\u001b[0m\n\u001b[1;32m      7\u001b[0m   \u001b[0;32mif\u001b[0m \u001b[0;34m(\u001b[0m\u001b[0mlearn\u001b[0m\u001b[0;34m.\u001b[0m\u001b[0mepoch_num\u001b[0m \u001b[0;34m>\u001b[0m \u001b[0;36m3\u001b[0m\u001b[0;34m)\u001b[0m\u001b[0;34m:\u001b[0m\u001b[0;34m\u001b[0m\u001b[0;34m\u001b[0m\u001b[0m\n",
            "\u001b[0;32m<ipython-input-18-ec1ea085ab07>\u001b[0m in \u001b[0;36mrun_all\u001b[0;34m(self, model, n_epochs)\u001b[0m\n\u001b[1;32m     46\u001b[0m    \u001b[0;32mdef\u001b[0m \u001b[0mrun_all\u001b[0m\u001b[0;34m(\u001b[0m\u001b[0mself\u001b[0m\u001b[0;34m,\u001b[0m \u001b[0mmodel\u001b[0m\u001b[0;34m,\u001b[0m \u001b[0mn_epochs\u001b[0m\u001b[0;34m)\u001b[0m\u001b[0;34m:\u001b[0m\u001b[0;34m\u001b[0m\u001b[0;34m\u001b[0m\u001b[0m\n\u001b[1;32m     47\u001b[0m      \u001b[0;32mfor\u001b[0m \u001b[0mepoch\u001b[0m \u001b[0;32min\u001b[0m \u001b[0mrange\u001b[0m\u001b[0;34m(\u001b[0m\u001b[0mn_epochs\u001b[0m\u001b[0;34m)\u001b[0m\u001b[0;34m:\u001b[0m\u001b[0;34m\u001b[0m\u001b[0;34m\u001b[0m\u001b[0m\n\u001b[0;32m---> 48\u001b[0;31m          \u001b[0mloss_train\u001b[0m\u001b[0;34m,\u001b[0m \u001b[0macc_train\u001b[0m \u001b[0;34m=\u001b[0m \u001b[0mself\u001b[0m\u001b[0;34m.\u001b[0m\u001b[0mrun_train\u001b[0m\u001b[0;34m(\u001b[0m\u001b[0mmodel\u001b[0m\u001b[0;34m)\u001b[0m\u001b[0;34m\u001b[0m\u001b[0;34m\u001b[0m\u001b[0m\n\u001b[0m\u001b[1;32m     49\u001b[0m          \u001b[0mself\u001b[0m\u001b[0;34m.\u001b[0m\u001b[0mloss_test\u001b[0m\u001b[0;34m,\u001b[0m \u001b[0macc_test\u001b[0m \u001b[0;34m=\u001b[0m \u001b[0mself\u001b[0m\u001b[0;34m.\u001b[0m\u001b[0mrun_test\u001b[0m\u001b[0;34m(\u001b[0m\u001b[0mmodel\u001b[0m\u001b[0;34m)\u001b[0m\u001b[0;34m\u001b[0m\u001b[0;34m\u001b[0m\u001b[0m\n\u001b[1;32m     50\u001b[0m          \u001b[0mprint\u001b[0m\u001b[0;34m(\u001b[0m\u001b[0;34mf\"epoch {self.epoch_num + epoch}: train loss {loss_train:.4f} acc {acc_train:.4f}, test loss {self.loss_test:.4f} acc {acc_test:.4f}\"\u001b[0m\u001b[0;34m)\u001b[0m\u001b[0;34m\u001b[0m\u001b[0;34m\u001b[0m\u001b[0m\n",
            "\u001b[0;32m<ipython-input-18-ec1ea085ab07>\u001b[0m in \u001b[0;36mrun_train\u001b[0;34m(self, model)\u001b[0m\n\u001b[1;32m     31\u001b[0m      \u001b[0;32mwith\u001b[0m \u001b[0mtorch\u001b[0m\u001b[0;34m.\u001b[0m\u001b[0menable_grad\u001b[0m\u001b[0;34m(\u001b[0m\u001b[0;34m)\u001b[0m\u001b[0;34m:\u001b[0m\u001b[0;34m\u001b[0m\u001b[0;34m\u001b[0m\u001b[0m\n\u001b[1;32m     32\u001b[0m          \u001b[0;32mfor\u001b[0m \u001b[0msamples\u001b[0m\u001b[0;34m,\u001b[0m \u001b[0mlabels\u001b[0m \u001b[0;32min\u001b[0m \u001b[0mloader_train\u001b[0m\u001b[0;34m:\u001b[0m\u001b[0;34m\u001b[0m\u001b[0;34m\u001b[0m\u001b[0m\n\u001b[0;32m---> 33\u001b[0;31m              \u001b[0msamples\u001b[0m \u001b[0;34m=\u001b[0m \u001b[0msamples\u001b[0m\u001b[0;34m.\u001b[0m\u001b[0mto\u001b[0m\u001b[0;34m(\u001b[0m\u001b[0mdevice\u001b[0m\u001b[0;34m)\u001b[0m\u001b[0;34m\u001b[0m\u001b[0;34m\u001b[0m\u001b[0m\n\u001b[0m\u001b[1;32m     34\u001b[0m              \u001b[0mlabels\u001b[0m \u001b[0;34m=\u001b[0m \u001b[0mlabels\u001b[0m\u001b[0;34m.\u001b[0m\u001b[0mto\u001b[0m\u001b[0;34m(\u001b[0m\u001b[0mdevice\u001b[0m\u001b[0;34m)\u001b[0m\u001b[0;34m\u001b[0m\u001b[0;34m\u001b[0m\u001b[0m\n\u001b[1;32m     35\u001b[0m              \u001b[0mself\u001b[0m\u001b[0;34m.\u001b[0m\u001b[0moptimizer\u001b[0m\u001b[0;34m.\u001b[0m\u001b[0mzero_grad\u001b[0m\u001b[0;34m(\u001b[0m\u001b[0;34m)\u001b[0m\u001b[0;34m\u001b[0m\u001b[0;34m\u001b[0m\u001b[0m\n",
            "\u001b[0;31mRuntimeError\u001b[0m: CUDA error: device-side assert triggered"
          ]
        }
      ]
    },
    {
      "cell_type": "markdown",
      "metadata": {
        "id": "MJl5Js1ABtMe"
      },
      "source": [
        ""
      ]
    },
    {
      "cell_type": "code",
      "metadata": {
        "id": "42AtCa0W4SMX"
      },
      "source": [
        "loader_train = torch.utils.data.DataLoader(dataset_train, batch_size = 1, shuffle=True)\n",
        "loader_test = torch.utils.data.DataLoader(dataset_test, batch_size = 1, shuffle=True)"
      ],
      "execution_count": null,
      "outputs": []
    },
    {
      "cell_type": "code",
      "metadata": {
        "id": "NeLB4aIt4V9f"
      },
      "source": [
        "  learn.run_all(model, 1)"
      ],
      "execution_count": null,
      "outputs": []
    },
    {
      "cell_type": "markdown",
      "metadata": {
        "id": "_r80EqnenLHI"
      },
      "source": [
        "Optimizing Parameters:\n",
        "\n",
        "* Top section of the table contains optimized parameters that are compatible with our app integration model\n",
        "\n",
        "* Bottom section of the table contains overall optimized parameters (not necessarily compatible with app)\n",
        "\n",
        "| learning rate | momentum | step size | gamma | minibatch | test loss | test acc | best epoch |\n",
        "|---------------|----------|-----------|-------|-----------|-----------|----------|------------|\n",
        "| ...           | ...      | ...       | ...   | ...       | ...       | ...      | ...        |\n",
        "| **0.0005** | **0.9** | **8** | **0.1** | 1 | 0.2718  | 0.7035| 14\n",
        "| **0.0005** | **0.9** | **8** | 0.9 | 1 | 0.3730  | 0.6504| 10\n",
        "| **0.0005** | **0.9** | **8** | 0.5 | 1 | 0.3148  | 0.6770| 9\n",
        "| **0.0005** | **0.9** | 4 | 0.1 | 1 | 0.2684  | 0.6504| 10\n",
        "| **0.0005** | **0.9** | 12 | 0.1 | 1 | 0.3088  | 0.6726| 17\n",
        "| **0.0005** | **0.9** | 10 | 0.1 | 1 | 0.3179  | 0.6681| 19\n",
        "| **0.0005** | **0.9** | 5 | 0.1 | 1 | 0.2794  | 0.6637| 16\n",
        "| **0.0005** | 0.5 | **8** | 0.1 | 1 | 0.2414  | 0.6593 | 6\n",
        "| **0.0005** | 0.2 | **8** | 0.1 | 1 | 0.2622  | 0.6239 | 13\n",
        "| 0.005 | **0.9** | **8** | 0.1 | 1 | 0.4175  | 0.4248 | 10\n",
        "| 0.01 | **0.9** | **8** | 0.1 | 1 | 0.3620  | 0.3850 | 12\n",
        "| 0.000001 | **0.9** | **8** | 0.1 | 1 | 0.3788 | 0.3496 | 12\n",
        "| 0.1 | **0.9** | **8** | 0.1 | 1 | 0.3922 | 0.3142 | 19\n",
        "| 0.001 | **0.9** | **8** | 0.1 | 1 | 0.3316 | 0.6549 | 11\n",
        "| ... | ... | ... | ... | ... | ... | ... | ... |\n",
        "| 0.001 | 0.9 | 8 | 0.1 | 5 | 0.3408 | 0.6637 | 20\n",
        "| 0.1 | 0.9 | 8 | 0.1 | 5 | 0.3492 | 0.4027 | 12\n",
        "| 0.000001 | 0.9 | 8 | 0.1 | 5 | 0.4359 | 0.3363 | 20\n",
        "| 0.01 | 0.9 | 8 | 0.1 | 5 | 0.3217 | 0.4292 | 20\n",
        "| 0.005 | 0.9 | 8 | 0.1 | 5 | 0.3417 | 0.4381 | 8\n",
        "| **0.0005** | 0.5 | 8 | 0.1 | 5 | 0.2521 | 0.6062 | 11\n",
        "| **0.0005** | 0.2| 8 | 0.1 | 5 | 0.2577 | 0.6239 | 14\n",
        "| **0.0005** | 0.8| 8 | 0.1 | 5 | 0.2682 | 0.6681 | 11\n",
        "| **0.0005** | **0.9** | 5 | 0.1 | 5 | 0.3160 | 0.6549 | 19\n",
        "| **0.0005** | **0.9** | 10 | 0.1 | 5 | 0.2862 | 0.6858 | 14\n",
        "| **0.0005** | **0.9** | 12 | 0.1 | 5 | 0.3171 | 0.6637 | 16\n",
        "| **0.0005** | **0.9** | **8** | 0.5 | 5 | 0.3367 | 0.6726 | 17\n",
        "| **0.0005** | **0.9** | **8** | 0.9 | 5 | 0.3137 | 0.6504 | 11\n",
        "| **0.0005** | **0.9** | **8** | **0.1** | 5 | 0.2966 | 0.6903 | 20\n",
        "| **0.0005** | **0.9** | **8** | **0.1** | 8 | 0.3185 | 0.6549 | 14\n",
        "| **0.0005** | **0.9** | **8** | **0.1** | 3 | 0.2908 | 0.6814 | 11\n",
        "| **0.0005** | **0.9** | **8** | **0.1** | 2 | 0.2872 | 0.6504 | 10\n",
        "| **0.0005** | **0.9** | **8** | **0.1** | **4** | 0.2834 | 0.7168 | 20\n"
      ]
    },
    {
      "cell_type": "markdown",
      "metadata": {
        "id": "6p7F0-MCCB-x"
      },
      "source": [
        "May use transforms.Rotation/VerticalFlip/... "
      ]
    },
    {
      "cell_type": "code",
      "metadata": {
        "id": "CkJdLtuLN_wm"
      },
      "source": [
        "# Code taken from tutorial video at https://www.youtube.com/watch?v=5Lxuu16_28o&ab_channel=PyTorch\n",
        "\n",
        "# model.qconfig = torch.quantization.get_default_qconfig('qnnpack')"
      ],
      "execution_count": null,
      "outputs": []
    },
    {
      "cell_type": "code",
      "metadata": {
        "id": "4jIloeA6ODef"
      },
      "source": [
        "# torch.quantization.prepare(model,inplace=True)"
      ],
      "execution_count": null,
      "outputs": []
    },
    {
      "cell_type": "code",
      "metadata": {
        "id": "ievDTQNNOHXI"
      },
      "source": [
        "# def calibrate(model,calibration_data):\n",
        "#   return\n",
        "# calibrate(model, [])"
      ],
      "execution_count": null,
      "outputs": []
    },
    {
      "cell_type": "code",
      "metadata": {
        "id": "UqBL20Q-OH3L"
      },
      "source": [
        "# model_quant = torch.quantization.QuantStub()"
      ],
      "execution_count": null,
      "outputs": []
    },
    {
      "cell_type": "code",
      "metadata": {
        "id": "1tWAsofaOMLX"
      },
      "source": [
        "# model = torch.quantization.convert(model_quant,inplace=True)"
      ],
      "execution_count": null,
      "outputs": []
    },
    {
      "cell_type": "markdown",
      "metadata": {
        "id": "RSijlwYUxius"
      },
      "source": [
        "- cpu_model = gpu_model.cpu()\n",
        "- sample_input_cpu = sample_input_gpu.cpu()\n",
        "- traced_cpu = torch.jit.trace(traced_cpu, sample_input_cpu)\n",
        "- torch.jit.save(traced_cpu, \"cpu.pth\")"
      ]
    },
    {
      "cell_type": "code",
      "metadata": {
        "id": "4Ua7Zuvj4x_F"
      },
      "source": [
        " model.eval()\n"
      ],
      "execution_count": null,
      "outputs": []
    },
    {
      "cell_type": "code",
      "metadata": {
        "id": "58xWvlNAu2H5"
      },
      "source": [
        "cpu_model = model.cpu()\n",
        "example = torch.rand(1, 3, 224, 224)\n",
        "traced_cpu = torch.jit.trace(cpu_model, example)\n",
        "torch.jit.save(traced_cpu, \"cpu_model.pt\")"
      ],
      "execution_count": null,
      "outputs": []
    },
    {
      "cell_type": "code",
      "metadata": {
        "id": "yKjJfjG8OOlD"
      },
      "source": [
        "cpu_model = model.cpu()\n",
        "torchscript_model = torch.jit.script(cpu_model)\n",
        "torch.jit.save(torchscript_model, \"cpu_model_9may130.pt\")"
      ],
      "execution_count": null,
      "outputs": []
    },
    {
      "cell_type": "code",
      "metadata": {
        "id": "_fbwwGDfORKz"
      },
      "source": [
        "# torchscript_model_optimized = optimize_for_mobile(torchscript_model)"
      ],
      "execution_count": null,
      "outputs": []
    },
    {
      "cell_type": "code",
      "metadata": {
        "id": "NPgT4vytJpsi"
      },
      "source": [
        "# # example = torch.rand(1, 3, 224, 224)\n",
        "# traced_script_module = torch.jit.script(model)\n",
        "# traced_script_module.save(\"model.pt\")"
      ],
      "execution_count": null,
      "outputs": []
    },
    {
      "cell_type": "code",
      "metadata": {
        "id": "JkVg63-IcLkp"
      },
      "source": [
        "# example"
      ],
      "execution_count": null,
      "outputs": []
    },
    {
      "cell_type": "code",
      "metadata": {
        "id": "hesTDl9KOWAQ"
      },
      "source": [
        "# torch.jit.save(torchscript_model_optimized, 'image_model.pt')"
      ],
      "execution_count": null,
      "outputs": []
    },
    {
      "cell_type": "code",
      "metadata": {
        "id": "hvHs4m6SifBT"
      },
      "source": [
        " i = 0\n",
        " for samples,labels in loader_test:\n",
        "   s = (samples)\n",
        "   l = labels\n",
        "   #samples = samples.to(device)\n",
        "   s = samples\n",
        "   out = torchscript_model(samples)\n",
        "   \n",
        "   i+= 1\n",
        "   if i == 24:\n",
        "     break"
      ],
      "execution_count": null,
      "outputs": []
    },
    {
      "cell_type": "code",
      "metadata": {
        "id": "pC6yeT65sOYr"
      },
      "source": [
        " out"
      ],
      "execution_count": null,
      "outputs": []
    },
    {
      "cell_type": "code",
      "metadata": {
        "id": "pAF6U_A3jOfv"
      },
      "source": [
        "# model.eval()"
      ],
      "execution_count": null,
      "outputs": []
    },
    {
      "cell_type": "code",
      "metadata": {
        "id": "TwKbGHnWmPR4"
      },
      "source": [
        " s[0][0][0]"
      ],
      "execution_count": null,
      "outputs": []
    },
    {
      "cell_type": "code",
      "metadata": {
        "id": "3iA5sFd0fLXu"
      },
      "source": [
        "plt.imshow(s[0].permute(1,2,0))"
      ],
      "execution_count": null,
      "outputs": []
    },
    {
      "cell_type": "code",
      "metadata": {
        "id": "9Sz7DVFetppa"
      },
      "source": [
        " l"
      ],
      "execution_count": null,
      "outputs": []
    },
    {
      "cell_type": "code",
      "metadata": {
        "id": "_XjUBtGYne2n"
      },
      "source": [
        "# s.shape"
      ],
      "execution_count": null,
      "outputs": []
    },
    {
      "cell_type": "code",
      "metadata": {
        "id": "fEIOelqjFec3"
      },
      "source": [
        "# out.shape"
      ],
      "execution_count": null,
      "outputs": []
    },
    {
      "cell_type": "code",
      "metadata": {
        "id": "ywoMtSRGrBKn"
      },
      "source": [
        "t,p = torch.max(out,1)"
      ],
      "execution_count": null,
      "outputs": []
    },
    {
      "cell_type": "code",
      "metadata": {
        "id": "P_iV1YVlyCgj"
      },
      "source": [
        "# t.shape"
      ],
      "execution_count": null,
      "outputs": []
    },
    {
      "cell_type": "code",
      "metadata": {
        "id": "OBDdDfd_rkHl"
      },
      "source": [
        "p.shape"
      ],
      "execution_count": null,
      "outputs": []
    },
    {
      "cell_type": "code",
      "metadata": {
        "id": "Hewu9XbUBSr7"
      },
      "source": [
        "# p.to(device)"
      ],
      "execution_count": null,
      "outputs": []
    },
    {
      "cell_type": "code",
      "metadata": {
        "id": "xLg9KRx3tVCY"
      },
      "source": [
        "torch.sum(p== l)"
      ],
      "execution_count": null,
      "outputs": []
    },
    {
      "cell_type": "code",
      "metadata": {
        "id": "djY3XHm1i7qt"
      },
      "source": [
        "out = model(s)"
      ],
      "execution_count": null,
      "outputs": []
    },
    {
      "cell_type": "code",
      "metadata": {
        "id": "iQR09cRGjJvl"
      },
      "source": [
        "out"
      ],
      "execution_count": null,
      "outputs": []
    },
    {
      "cell_type": "code",
      "metadata": {
        "id": "O0OUU3_wl3bh"
      },
      "source": [
        "out.detach()"
      ],
      "execution_count": null,
      "outputs": []
    }
  ]
}