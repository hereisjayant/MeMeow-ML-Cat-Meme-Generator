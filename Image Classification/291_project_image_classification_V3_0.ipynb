{
  "nbformat": 4,
  "nbformat_minor": 0,
  "metadata": {
    "colab": {
      "name": "291_project_image_classification_V2_0.ipynb",
      "provenance": [],
      "collapsed_sections": []
    },
    "kernelspec": {
      "name": "python3",
      "display_name": "Python 3"
    },
    "language_info": {
      "name": "python"
    },
    "accelerator": "GPU",
    "widgets": {
      "application/vnd.jupyter.widget-state+json": {
        "c6b254fe90a74b66810ead8fb19876af": {
          "model_module": "@jupyter-widgets/controls",
          "model_name": "HBoxModel",
          "state": {
            "_view_name": "HBoxView",
            "_dom_classes": [],
            "_model_name": "HBoxModel",
            "_view_module": "@jupyter-widgets/controls",
            "_model_module_version": "1.5.0",
            "_view_count": null,
            "_view_module_version": "1.5.0",
            "box_style": "",
            "layout": "IPY_MODEL_add7c6d6d9b4410eba70e24212832702",
            "_model_module": "@jupyter-widgets/controls",
            "children": [
              "IPY_MODEL_ce3e74e22943433a8569f29ab7e211bb",
              "IPY_MODEL_5cce56c1bb2d4c76b1d504c05aaa0176"
            ]
          }
        },
        "add7c6d6d9b4410eba70e24212832702": {
          "model_module": "@jupyter-widgets/base",
          "model_name": "LayoutModel",
          "state": {
            "_view_name": "LayoutView",
            "grid_template_rows": null,
            "right": null,
            "justify_content": null,
            "_view_module": "@jupyter-widgets/base",
            "overflow": null,
            "_model_module_version": "1.2.0",
            "_view_count": null,
            "flex_flow": null,
            "width": null,
            "min_width": null,
            "border": null,
            "align_items": null,
            "bottom": null,
            "_model_module": "@jupyter-widgets/base",
            "top": null,
            "grid_column": null,
            "overflow_y": null,
            "overflow_x": null,
            "grid_auto_flow": null,
            "grid_area": null,
            "grid_template_columns": null,
            "flex": null,
            "_model_name": "LayoutModel",
            "justify_items": null,
            "grid_row": null,
            "max_height": null,
            "align_content": null,
            "visibility": null,
            "align_self": null,
            "height": null,
            "min_height": null,
            "padding": null,
            "grid_auto_rows": null,
            "grid_gap": null,
            "max_width": null,
            "order": null,
            "_view_module_version": "1.2.0",
            "grid_template_areas": null,
            "object_position": null,
            "object_fit": null,
            "grid_auto_columns": null,
            "margin": null,
            "display": null,
            "left": null
          }
        },
        "ce3e74e22943433a8569f29ab7e211bb": {
          "model_module": "@jupyter-widgets/controls",
          "model_name": "FloatProgressModel",
          "state": {
            "_view_name": "ProgressView",
            "style": "IPY_MODEL_c44128f1a08449e18a81266ce9e53273",
            "_dom_classes": [],
            "description": "100%",
            "_model_name": "FloatProgressModel",
            "bar_style": "success",
            "max": 46827520,
            "_view_module": "@jupyter-widgets/controls",
            "_model_module_version": "1.5.0",
            "value": 46827520,
            "_view_count": null,
            "_view_module_version": "1.5.0",
            "orientation": "horizontal",
            "min": 0,
            "description_tooltip": null,
            "_model_module": "@jupyter-widgets/controls",
            "layout": "IPY_MODEL_ab1707fd67e346a793bd230b0e47de18"
          }
        },
        "5cce56c1bb2d4c76b1d504c05aaa0176": {
          "model_module": "@jupyter-widgets/controls",
          "model_name": "HTMLModel",
          "state": {
            "_view_name": "HTMLView",
            "style": "IPY_MODEL_e93d7d9c912748b28111202ed59bdcab",
            "_dom_classes": [],
            "description": "",
            "_model_name": "HTMLModel",
            "placeholder": "​",
            "_view_module": "@jupyter-widgets/controls",
            "_model_module_version": "1.5.0",
            "value": " 44.7M/44.7M [08:01&lt;00:00, 97.2kB/s]",
            "_view_count": null,
            "_view_module_version": "1.5.0",
            "description_tooltip": null,
            "_model_module": "@jupyter-widgets/controls",
            "layout": "IPY_MODEL_f117162629e94f85b22cca3e6c7e6cba"
          }
        },
        "c44128f1a08449e18a81266ce9e53273": {
          "model_module": "@jupyter-widgets/controls",
          "model_name": "ProgressStyleModel",
          "state": {
            "_view_name": "StyleView",
            "_model_name": "ProgressStyleModel",
            "description_width": "initial",
            "_view_module": "@jupyter-widgets/base",
            "_model_module_version": "1.5.0",
            "_view_count": null,
            "_view_module_version": "1.2.0",
            "bar_color": null,
            "_model_module": "@jupyter-widgets/controls"
          }
        },
        "ab1707fd67e346a793bd230b0e47de18": {
          "model_module": "@jupyter-widgets/base",
          "model_name": "LayoutModel",
          "state": {
            "_view_name": "LayoutView",
            "grid_template_rows": null,
            "right": null,
            "justify_content": null,
            "_view_module": "@jupyter-widgets/base",
            "overflow": null,
            "_model_module_version": "1.2.0",
            "_view_count": null,
            "flex_flow": null,
            "width": null,
            "min_width": null,
            "border": null,
            "align_items": null,
            "bottom": null,
            "_model_module": "@jupyter-widgets/base",
            "top": null,
            "grid_column": null,
            "overflow_y": null,
            "overflow_x": null,
            "grid_auto_flow": null,
            "grid_area": null,
            "grid_template_columns": null,
            "flex": null,
            "_model_name": "LayoutModel",
            "justify_items": null,
            "grid_row": null,
            "max_height": null,
            "align_content": null,
            "visibility": null,
            "align_self": null,
            "height": null,
            "min_height": null,
            "padding": null,
            "grid_auto_rows": null,
            "grid_gap": null,
            "max_width": null,
            "order": null,
            "_view_module_version": "1.2.0",
            "grid_template_areas": null,
            "object_position": null,
            "object_fit": null,
            "grid_auto_columns": null,
            "margin": null,
            "display": null,
            "left": null
          }
        },
        "e93d7d9c912748b28111202ed59bdcab": {
          "model_module": "@jupyter-widgets/controls",
          "model_name": "DescriptionStyleModel",
          "state": {
            "_view_name": "StyleView",
            "_model_name": "DescriptionStyleModel",
            "description_width": "",
            "_view_module": "@jupyter-widgets/base",
            "_model_module_version": "1.5.0",
            "_view_count": null,
            "_view_module_version": "1.2.0",
            "_model_module": "@jupyter-widgets/controls"
          }
        },
        "f117162629e94f85b22cca3e6c7e6cba": {
          "model_module": "@jupyter-widgets/base",
          "model_name": "LayoutModel",
          "state": {
            "_view_name": "LayoutView",
            "grid_template_rows": null,
            "right": null,
            "justify_content": null,
            "_view_module": "@jupyter-widgets/base",
            "overflow": null,
            "_model_module_version": "1.2.0",
            "_view_count": null,
            "flex_flow": null,
            "width": null,
            "min_width": null,
            "border": null,
            "align_items": null,
            "bottom": null,
            "_model_module": "@jupyter-widgets/base",
            "top": null,
            "grid_column": null,
            "overflow_y": null,
            "overflow_x": null,
            "grid_auto_flow": null,
            "grid_area": null,
            "grid_template_columns": null,
            "flex": null,
            "_model_name": "LayoutModel",
            "justify_items": null,
            "grid_row": null,
            "max_height": null,
            "align_content": null,
            "visibility": null,
            "align_self": null,
            "height": null,
            "min_height": null,
            "padding": null,
            "grid_auto_rows": null,
            "grid_gap": null,
            "max_width": null,
            "order": null,
            "_view_module_version": "1.2.0",
            "grid_template_areas": null,
            "object_position": null,
            "object_fit": null,
            "grid_auto_columns": null,
            "margin": null,
            "display": null,
            "left": null
          }
        }
      }
    }
  },
  "cells": [
    {
      "cell_type": "code",
      "metadata": {
        "colab": {
          "base_uri": "https://localhost:8080/"
        },
        "id": "M5DnrWi--CNR",
        "outputId": "20e68a25-38d9-41a5-8981-1b68d8f44c36"
      },
      "source": [
        "# Manually splitting dataset into training and testing dataset\n",
        "\n",
        "!unzip /content/train-ds.zip\n",
        "!unzip /content/test-ds.zip"
      ],
      "execution_count": 1,
      "outputs": [
        {
          "output_type": "stream",
          "text": [
            "Archive:  /content/train-ds.zip\n",
            "   creating: train-ds/happy-train/\n",
            "  inflating: train-ds/happy-train/032ea2ade921b30e4ce23c459aff788a--cat-cat-kitty-cats.jpg  \n",
            "  inflating: train-ds/happy-train/059ee3f907b7b9ea61959d8adfbabe8c.jpg  \n",
            "  inflating: train-ds/happy-train/05f1f7e6a00e3d55a9f8e2752a08e159.jpg  \n",
            "  inflating: train-ds/happy-train/06de616d99f90fa0f0159803fe14aefc.jpg  \n",
            "  inflating: train-ds/happy-train/09_JUL6thChanel_DAYliliesUBCquestions_s112__880.jpg  \n",
            "  inflating: train-ds/happy-train/0af291c06a01eabe4a624efa52669910--funny-animal-pictures-pictures-of.jpg  \n",
            "  inflating: train-ds/happy-train/0cec239cb51e5a9689887bda9f588e3d.jpg  \n",
            "  inflating: train-ds/happy-train/10-cute-photos-of-happy-cats.jpg  \n",
            "  inflating: train-ds/happy-train/12ffd41809288e685ad75a4faed3f135.jpg  \n",
            "  inflating: train-ds/happy-train/13d7ac7dc058324a384278185ed56f6f.jpg  \n",
            "  inflating: train-ds/happy-train/14 Fun Facts about Cats1.jpg  \n",
            "  inflating: train-ds/happy-train/144d6bd7cea182b69e63c76275bade88.jpg  \n",
            "  inflating: train-ds/happy-train/155b7c469a2e7555b9cccfddea1c705d--about-smile-chartreux-cat.jpg  \n",
            "  inflating: train-ds/happy-train/15yhnp.jpg  \n",
            "  inflating: train-ds/happy-train/1aa0fa291370fc68c39a60181a14f881--happy-cats.jpg  \n",
            "  inflating: train-ds/happy-train/1da63faa93f1987bae541588d0f9f88b.jpg  \n",
            "  inflating: train-ds/happy-train/225.jpg  \n",
            "  inflating: train-ds/happy-train/228e7dfa8f90b2669209c5c461958cbf--shock-and-awe-say-what.jpg  \n",
            "  inflating: train-ds/happy-train/24be3687e065d867e917a9e72f45a320--tuna-foxes.jpg  \n",
            "  inflating: train-ds/happy-train/250ce0d80597f640e4322ba1e7ff3b5d.jpg  \n",
            "  inflating: train-ds/happy-train/25bb6c713d75d5032124e0eae31d2de1.jpg  \n",
            "  inflating: train-ds/happy-train/27bd99ef504c26029c554a376661d557.jpg  \n",
            "  inflating: train-ds/happy-train/28ee2d7560078a65a1645b9dbbf17837.jpg  \n",
            "  inflating: train-ds/happy-train/2c64739a8b3fd6603f072baa57bd4de0.jpg  \n",
            "  inflating: train-ds/happy-train/32c4e38814a5c5435867e350c8601094.jpg  \n",
            "  inflating: train-ds/happy-train/33a7f69fdb5921be6b8b26ee76420af1.jpg  \n",
            "  inflating: train-ds/happy-train/34c883aa74b162a874c5a2a481e6cc25.jpg  \n",
            "  inflating: train-ds/happy-train/35aebc2c32fd5f7ce98359897a4d486d--strega-happy.jpg  \n",
            "  inflating: train-ds/happy-train/364d8a65f6bd99ca2d9d6ca26179f3ee.jpg  \n",
            "  inflating: train-ds/happy-train/365fd72b9c6550d559eab51e048719b5--happy-cats.jpg  \n",
            "  inflating: train-ds/happy-train/36c0a70423df27f2286304420aae9bdc.jpg  \n",
            "  inflating: train-ds/happy-train/376fee1e0fae956e0ef943db9264ebfb.jpg  \n",
            "  inflating: train-ds/happy-train/39e51ec97e5a904fd3964489039154a5.jpg  \n",
            "  inflating: train-ds/happy-train/3b7cdeac292f47127059bc3b0322ef30.jpg  \n",
            "  inflating: train-ds/happy-train/3c4714337d3ba83162eb0b019f5142f3.jpg  \n",
            "  inflating: train-ds/happy-train/3ec895dd1fc5dc39febf5bdfefeca39f.jpg  \n",
            "  inflating: train-ds/happy-train/3-secrets-to-a-happy-cat.jpg  \n",
            "  inflating: train-ds/happy-train/400px-Happy_Cat.jpg  \n",
            "  inflating: train-ds/happy-train/425db2f1c57ecf211f4c682afdafb575.jpg  \n",
            "  inflating: train-ds/happy-train/430-4303210_happy-cat-jpg-cat-walking-towards-you-transparent.jpg  \n",
            "  inflating: train-ds/happy-train/44eee07204f95e2c5ea43e3997a55e07.jpg  \n",
            "  inflating: train-ds/happy-train/46a.jpg  \n",
            "  inflating: train-ds/happy-train/46f688991802d1f484772d040d30d9da.jpg  \n",
            "  inflating: train-ds/happy-train/47a7d76f4129ae5e2a483b69488af30f--baby-kitty-kitty-cats.jpg  \n",
            "  inflating: train-ds/happy-train/4a10aadbaedabae97dad9f691218b80a.jpg  \n",
            "  inflating: train-ds/happy-train/4b86ebf7d6804e6c76e5c415c72e008c.jpg  \n",
            "  inflating: train-ds/happy-train/4bed8569f05077dd5ee5430d18f53844.jpg  \n",
            "  inflating: train-ds/happy-train/4ccddb7bb7848acb64560d4179aa8bd2.jpg  \n",
            "  inflating: train-ds/happy-train/4d4e67a3186eb0102fdb76ec9516c37a.jpg  \n",
            "  inflating: train-ds/happy-train/4e438d0aa8b21527b2034a37f79e01d8--orange-kittens-white-kittens.jpg  \n",
            "  inflating: train-ds/happy-train/4fd02613261a8332850800921d802e70.jpg  \n",
            "  inflating: train-ds/happy-train/4jr575.jpg  \n",
            "  inflating: train-ds/happy-train/515ROxgbBKL.jpg  \n",
            "  inflating: train-ds/happy-train/51IsERoXHvL._AC_SY400_.jpg  \n",
            "  inflating: train-ds/happy-train/550x767.jpg  \n",
            "  inflating: train-ds/happy-train/55d241bc470af50105b78eafbfeeac64.jpg  \n",
            "  inflating: train-ds/happy-train/5df450864052e0ca54f207e7f57f001d.jpg  \n",
            "  inflating: train-ds/happy-train/5-signs-your-cat-is-happy3.jpg  \n",
            "  inflating: train-ds/happy-train/62e1cfdd8f71c3149978f8da988b6dd6.jpg  \n",
            "  inflating: train-ds/happy-train/63eb1fd375f6aff4cce3ae27857a8baf.jpg  \n",
            "  inflating: train-ds/happy-train/659f767b5be58f4d8706d796a8f0879a--white-cats-white-fur.jpg  \n",
            "  inflating: train-ds/happy-train/666f743fcd98dea7a8ac401afbf7f77e.jpg  \n",
            "  inflating: train-ds/happy-train/69e9a5ea4d044c93c556f22e0385ebe8.jpg  \n",
            "  inflating: train-ds/happy-train/6a1b862c2b64ba9f9880fc8a4ad73b2c.jpg  \n",
            "  inflating: train-ds/happy-train/6b644757e27686413039a46fcf0cace6.jpg  \n",
            "  inflating: train-ds/happy-train/6cdbe5e7d12ce128fa57bb49721137a7.jpg  \n",
            "  inflating: train-ds/happy-train/71t+aicsR0L.jpg  \n",
            "  inflating: train-ds/happy-train/7c72e1c551f2497f6e49b58355aec15c.jpg  \n",
            "  inflating: train-ds/happy-train/7cu5lub5okl21.jpg  \n",
            "  inflating: train-ds/happy-train/7d84990822e65b1d9dcd2e08880d50a5.jpg  \n",
            "  inflating: train-ds/happy-train/7dc516d45039c1925dc577d9cee66749.jpg  \n",
            "  inflating: train-ds/happy-train/7e296397ea9f6d1832fec6ad4dc947e9.jpg  \n",
            "  inflating: train-ds/happy-train/82c6235ac8a55126417d0b2a71f1ff3a.jpg  \n",
            "  inflating: train-ds/happy-train/86a886172ab576c444ea79749d93dcff.jpg  \n",
            "  inflating: train-ds/happy-train/8a322a269bbf9364ef0721e49beff7aa.jpg  \n",
            "  inflating: train-ds/happy-train/8a8ee97988fa52217f20e47effc597f2.jpg  \n",
            "  inflating: train-ds/happy-train/8ac347f49c7915b8d411dd2e705b900d.jpg  \n",
            "  inflating: train-ds/happy-train/8b31d948153eb85d46e6552a935d49f9.jpg  \n",
            "  inflating: train-ds/happy-train/8d4d2a3ef8a4e885b875f7f2008d486c.jpg  \n",
            "  inflating: train-ds/happy-train/8e30b68e0480dbd49bae60992714d2ac.jpg  \n",
            "  inflating: train-ds/happy-train/91c92a9f8fa4d3fbbb0be37e6f22b9aa--baby-animals-funny-animals.jpg  \n",
            "  inflating: train-ds/happy-train/9ac9b4b6782aaf3dc3056f66b0ae72fc.jpg  \n",
            "  inflating: train-ds/happy-train/9ad568c30896bb1a2194cfd2c3e7bab3--tabby-cats-kitty-cats.jpg  \n",
            "  inflating: train-ds/happy-train/9fc6c13f9fbb27a2776bb72c1771d55d--cute-photos-cat-cat.jpg  \n",
            "  inflating: train-ds/happy-train/c007c977a2fd919d0e0cda3e40fea0eb.jpg  \n",
            "  inflating: train-ds/happy-train/c44ab006972564e461d962ec37eb134b.jpg  \n",
            "  inflating: train-ds/happy-train/c59a8f4d2956c8e68f4a1d34bb505111.jpg  \n",
            "  inflating: train-ds/happy-train/c64d24392f116c9cfdaf93e3e18e5c30.jpg  \n",
            "  inflating: train-ds/happy-train/c79fbb84a5cb9350e53e633dcc9a4729--its-my-birthday-cat-memes.jpg  \n",
            "  inflating: train-ds/happy-train/c7cc4333bc5f4b8a7fd64e0ab32c6b23--she-s-adorable-kittens.jpg  \n",
            "  inflating: train-ds/happy-train/ca4a5e53053a5a656d345be2e71ae341.jpg  \n",
            "  inflating: train-ds/happy-train/ca74621f8b1623f629747279d408e04f.jpg  \n",
            "  inflating: train-ds/happy-train/cabb0feddd21a7535eb3e22aaaf12323.jpg  \n",
            "  inflating: train-ds/happy-train/can-cats-eat-ice-cream.jpg  \n",
            "  inflating: train-ds/happy-train/cat_1559386517-e1559386551558.jpg  \n",
            "  inflating: train-ds/happy-train/cat_in_1537511658-e1537511869773.jpg  \n",
            "  inflating: train-ds/happy-train/cat3.jpg  \n",
            "  inflating: train-ds/happy-train/cat-moods-happy-cats.jpg  \n",
            "  inflating: train-ds/happy-train/cat-toys.jpg  \n",
            "  inflating: train-ds/happy-train/cbf5702c10cea6abcfd288330ee79c2d.jpg  \n",
            "  inflating: train-ds/happy-train/cdkydjg.jpg  \n",
            "  inflating: train-ds/happy-train/ced27f123080ded1bcb8c10b1cad7916.jpg  \n",
            "  inflating: train-ds/happy-train/cnudu.jpg  \n",
            "  inflating: train-ds/happy-train/Copy of August _ FELIWAY _ Blog _ The Benefits of a Happy Cat! What are the Signs of a Calm, Content Kitty_-3.jpg  \n",
            "  inflating: train-ds/happy-train/Cute-cat-lying-on-his-back-on-the-carpet.-Breed-British-mackerel-with-yellow-eyes-and-a-bushy-mustache.-Close-up-e1573490045672.jpg  \n",
            "  inflating: train-ds/happy-train/d089495c430f9caf1a46c62e4f8a1cfa--tabby-kittens-kitty-cats.jpg  \n",
            "  inflating: train-ds/happy-train/d165bbc52c31f48b435352399885ba63.jpg  \n",
            "  inflating: train-ds/happy-train/d713b5c58a9ceeaef95398e8ff2db96c--so-funny-funny-cats.jpg  \n",
            "  inflating: train-ds/happy-train/d80d593646fec6be7fde21f8b13d0da9.jpg  \n",
            "  inflating: train-ds/happy-train/d94c424852ae6bb0205c221aedf1ada0--baskets-favorite-things.jpg  \n",
            "  inflating: train-ds/happy-train/d97xv2cb89a01.jpg  \n",
            "  inflating: train-ds/happy-train/da9bfd972cbd6ae3df959ece1cff76ae.jpg  \n",
            "  inflating: train-ds/happy-train/dc4388b86b88a10169200b41c7ed73b3--funny-cat-pics-so-funny.jpg  \n",
            "  inflating: train-ds/happy-train/df4a53cc2e9c6230aeb1e9f84a631a59.jpg  \n",
            "  inflating: train-ds/happy-train/dont-worry-be-happy-cat.jpg  \n",
            "  inflating: train-ds/happy-train/download (1).jpg  \n",
            "  inflating: train-ds/happy-train/download (2).jpg  \n",
            "  inflating: train-ds/happy-train/download (3).jpg  \n",
            "  inflating: train-ds/happy-train/download (4).jpg  \n",
            "  inflating: train-ds/happy-train/download.jpg  \n",
            "  inflating: train-ds/happy-train/e30d9ae8aea55a3d043f1baadad669d3.jpg  \n",
            "  inflating: train-ds/happy-train/e312a37dc56f0bad856dad375a73e00b--jack-oconnell-happy.jpg  \n",
            "  inflating: train-ds/happy-train/e3db3a040176f7931fcbd14d277a8dba.jpg  \n",
            "  inflating: train-ds/happy-train/e72a2956aac6cfa4557e80960f03a802.jpg  \n",
            "  inflating: train-ds/happy-train/e9f6cf614d9b37f9e626f76bae558c03.jpg  \n",
            "  inflating: train-ds/happy-train/ec9026e2c4a6c13f59aaed60e0d5fca3.jpg  \n",
            "  inflating: train-ds/happy-train/f2cf3da8e9eccff0f5f024c43974eb53--smiling-cat-cute-cats.jpg  \n",
            "  inflating: train-ds/happy-train/f3c568b0b480089ca42996ef2ca0b4f6--black-lips-brown.jpg  \n",
            "  inflating: train-ds/happy-train/f5782b7ad0253ab2be279bd8c844ab0d.jpg  \n",
            "  inflating: train-ds/happy-train/f5fc3e96b8ec983a0c21f4b7c8808aa9 (1).jpg  \n",
            "  inflating: train-ds/happy-train/f659c6c69e45eb8a963d9a31a826287d.jpg  \n",
            "  inflating: train-ds/happy-train/f6e0457e5e98ac30ba7611ffa2423f64--jack-oconnell-cat-food.jpg  \n",
            "  inflating: train-ds/happy-train/fb6d6cc695cdfdb0adbdfc0206a8acb0--laughing-animals-hate-cats.jpg  \n",
            "  inflating: train-ds/happy-train/fb7216fb679ae2456531f597b725a007--cat-poems-puma.jpg  \n",
            "  inflating: train-ds/happy-train/fea90e6df8455ef3484bfc6b615db499.jpg  \n",
            "  inflating: train-ds/happy-train/front-cat-scale.jpg  \n",
            "  inflating: train-ds/happy-train/funny-cats-andnicefish-happy-cat-named-coco-6776991.jpg  \n",
            "  inflating: train-ds/happy-train/happy cat.jpg  \n",
            "  inflating: train-ds/happy-train/happy_cat.jpg  \n",
            "  inflating: train-ds/happy-train/Happy-cat (1).jpg  \n",
            "  inflating: train-ds/happy-train/happycat.jpg  \n",
            "  inflating: train-ds/happy-train/Happy-cat.jpg  \n",
            "  inflating: train-ds/happy-train/happycat_03.jpg  \n",
            "  inflating: train-ds/happy-train/happy-cat_edited.jpg  \n",
            "  inflating: train-ds/happy-train/happy-cat_islam-zarat_Shutterstock.jpg  \n",
            "  inflating: train-ds/happy-train/happy-cat-11.jpg  \n",
            "  inflating: train-ds/happy-train/happycat2.jpg  \n",
            "  inflating: train-ds/happy-train/happy-cat-2.jpg  \n",
            "  inflating: train-ds/happy-train/happy-cat-300x200.jpg  \n",
            "  inflating: train-ds/happy-train/happycat4.jpg  \n",
            "  inflating: train-ds/happy-train/Happy-Cat-768x513.jpg  \n",
            "  inflating: train-ds/happy-train/happy-cat-american-short-hair-sleep-on-grey-couch-picture-id517314482.jpg  \n",
            "  inflating: train-ds/happy-train/happy-cat-blog-cover.jpg  \n",
            "  inflating: train-ds/happy-train/Happy-Cat-Catsitter-Steve-Dale-257x300.jpg  \n",
            "  inflating: train-ds/happy-train/Happy-Cat-Month.jpg  \n",
            "  inflating: train-ds/happy-train/happy-cat-month-01-600x534.jpg  \n",
            "  inflating: train-ds/happy-train/happy-cat-month-1.jpg  \n",
            "  inflating: train-ds/happy-train/happy-cat-pics.jpg  \n",
            "  inflating: train-ds/happy-train/Happy-Cats__880.jpg  \n",
            "  inflating: train-ds/happy-train/happy-cats-4.jpg  \n",
            "  inflating: train-ds/happy-train/happy-cats-baby-photo.jpg  \n",
            "  inflating: train-ds/happy-train/happy-cats-cattery-kitten-licking-lips-640x346-320w.jpg  \n",
            "  inflating: train-ds/happy-train/happy-cats-cattery-sleeping-kitten-640x346-320w.jpg  \n",
            "  inflating: train-ds/happy-train/Happy-Cats-FI.jpg  \n",
            "  inflating: train-ds/happy-train/happy-cat-smiling-1__880.jpg  \n",
            "  inflating: train-ds/happy-train/happy-cat-smiling-151__880.jpg  \n",
            "  inflating: train-ds/happy-train/happy-cat-smiling-16__880.jpg  \n",
            "  inflating: train-ds/happy-train/happy-cat-smiling-17__880.jpg  \n",
            "  inflating: train-ds/happy-train/happy-cat-smiling-18__880.jpg  \n",
            "  inflating: train-ds/happy-train/happy-cat-smiling-19__880.jpg  \n",
            "  inflating: train-ds/happy-train/happy-cat-smiling-2__880.jpg  \n",
            "  inflating: train-ds/happy-train/happy-cat-smiling-20__880.jpg  \n",
            "  inflating: train-ds/happy-train/happy-cat-smiling-22__880.jpg  \n",
            "  inflating: train-ds/happy-train/happy-cat-smiling-24__880.jpg  \n",
            "  inflating: train-ds/happy-train/happy-cat-smiling-261__880.jpg  \n",
            "  inflating: train-ds/happy-train/happy-cat-smiling-3__880.jpg  \n",
            "  inflating: train-ds/happy-train/happy-cat-smiling-4__880.jpg  \n",
            "  inflating: train-ds/happy-train/happy-cat-smiling-5__880.jpg  \n",
            "  inflating: train-ds/happy-train/happy-cat-smiling-6__880.jpg  \n",
            "  inflating: train-ds/happy-train/happy-cat-smiling-7__880.jpg  \n",
            "  inflating: train-ds/happy-train/happy-cat-smiling-8__880.jpg  \n",
            "  inflating: train-ds/happy-train/happy-cat-smiling-9__880.jpg  \n",
            "  inflating: train-ds/happy-train/happy-cat-smiling-fb2.jpg  \n",
            "  inflating: train-ds/happy-train/happy-cats-pictures.jpg  \n",
            "  inflating: train-ds/happy-train/happy-cat-s-son-euphorikat.jpg  \n",
            "  inflating: train-ds/happy-train/happy-cat-when-he-was-bebbeh.jpg  \n",
            "  inflating: train-ds/happy-train/How_to_use_catnip_silver_vine_to_make_your_cat_a_happy_cat-5.jpg  \n",
            "  inflating: train-ds/happy-train/hqdefault (6).jpg  \n",
            "  inflating: train-ds/happy-train/hqdefault.jpg  \n",
            "  inflating: train-ds/happy-train/image173__880.jpg  \n",
            "  inflating: train-ds/happy-train/img.jpg  \n",
            "  inflating: train-ds/happy-train/IMG_1088__880.jpg  \n",
            "  inflating: train-ds/happy-train/IMG_1725__880.jpg  \n",
            "  inflating: train-ds/happy-train/istockphoto-1136699695-612x612.jpg  \n",
            "  inflating: train-ds/happy-train/k6ILFkg.jpg  \n",
            "  inflating: train-ds/happy-train/love-couple-of-cats-BM31B1.jpg  \n",
            "  inflating: train-ds/happy-train/main-qimg-91e92936c957a0c3471b57ebf1e1ee8f.jpg  \n",
            "  inflating: train-ds/happy-train/male-or-female-cat-header.jpg  \n",
            "  inflating: train-ds/happy-train/maxresdefault (10).jpg  \n",
            "  inflating: train-ds/happy-train/maxresdefault (11).jpg  \n",
            "  inflating: train-ds/happy-train/maxresdefault (9).jpg  \n",
            "  inflating: train-ds/happy-train/maxresdefault.jpg  \n",
            "  inflating: train-ds/happy-train/mods-are-sleeping-post-happy-cats-43273523.jpg  \n",
            "  inflating: train-ds/happy-train/Mutlu4.jpg  \n",
            "  inflating: train-ds/happy-train/news-happy-cat-825x622.jpg  \n",
            "  inflating: train-ds/happy-train/nice.jpg  \n",
            "  inflating: train-ds/happy-train/Ohug4WrhrxJW7IgapD4cKr2iNVjQBUWj5NotTHBCB34.jpg  \n",
            "  inflating: train-ds/happy-train/OIP (1).jpg  \n",
            "  inflating: train-ds/happy-train/OIP (10).jpg  \n",
            "  inflating: train-ds/happy-train/OIP (11).jpg  \n",
            "  inflating: train-ds/happy-train/OIP (12).jpg  \n",
            "  inflating: train-ds/happy-train/OIP (13).jpg  \n",
            "  inflating: train-ds/happy-train/OIP (14).jpg  \n",
            "  inflating: train-ds/happy-train/OIP (15).jpg  \n",
            "  inflating: train-ds/happy-train/OIP (16).jpg  \n",
            "  inflating: train-ds/happy-train/OIP (17).jpg  \n",
            "  inflating: train-ds/happy-train/OIP (2).jpg  \n",
            "  inflating: train-ds/happy-train/OIP (3).jpg  \n",
            "  inflating: train-ds/happy-train/OIP (4).jpg  \n",
            "  inflating: train-ds/happy-train/OIP (5).jpg  \n",
            "  inflating: train-ds/happy-train/OIP (6).jpg  \n",
            "  inflating: train-ds/happy-train/OIP (7).jpg  \n",
            "  inflating: train-ds/happy-train/OIP (8).jpg  \n",
            "  inflating: train-ds/happy-train/OIP (9).jpg  \n",
            "  inflating: train-ds/happy-train/OIP.jpg  \n",
            "  inflating: train-ds/happy-train/p06fl8mn.jpg  \n",
            "  inflating: train-ds/happy-train/pbbeidlhbyw61.jpg  \n",
            "  inflating: train-ds/happy-train/petmd-cat-happy-15.jpg  \n",
            "  inflating: train-ds/happy-train/photo_2020-11-03_09-54-48.jpg  \n",
            "  inflating: train-ds/happy-train/portrait-of-a-happy-cat-sleeping-on-the-back_u-l-q130fwv0 (1).jpg  \n",
            "  inflating: train-ds/happy-train/smiling-cat-for-web.jpg  \n",
            "  inflating: train-ds/happy-train/stock-photo-business-concept-of-success-happy-cat-in-tie-enjoying-the-rain-of-money-433417291.jpg  \n",
            "  inflating: train-ds/happy-train/stock-photo-close-up-cat-hand-kitten-nose-baby-optimism-tongue-eyes-90982e59-5d46-4e22-94b4-64615d5ef0de.jpg  \n",
            "  inflating: train-ds/happy-train/Stocksy_txpba7ef914jvq100_Medium_1493631-5a8ef3d404d1cf003616d6f3.jpg  \n",
            "  inflating: train-ds/happy-train/such-a-cute-picture-join-our-group-happy-cats.jpg  \n",
            "  inflating: train-ds/happy-train/Two-happy-cats-cuddled-up-together.jpg  \n",
            "  inflating: train-ds/happy-train/uhhwx.jpg  \n",
            "  inflating: train-ds/happy-train/Why-Does-My-Cat-Follow-Me-Around.jpg  \n",
            "  inflating: train-ds/happy-train/wt467q6h8lt61 (1).jpg  \n",
            "   creating: train-ds/sad-train/\n",
            "  inflating: train-ds/sad-train/00000001.jpg  \n",
            "  inflating: train-ds/sad-train/00000002.jpg  \n",
            "  inflating: train-ds/sad-train/00000003.jpg  \n",
            "  inflating: train-ds/sad-train/00000004.jpg  \n",
            "  inflating: train-ds/sad-train/00000005.jpg  \n",
            "  inflating: train-ds/sad-train/00000005_020.jpg  \n",
            "  inflating: train-ds/sad-train/00000006.jpg  \n",
            "  inflating: train-ds/sad-train/00000007.jpg  \n",
            "  inflating: train-ds/sad-train/00000007_012.jpg  \n",
            "  inflating: train-ds/sad-train/00000007_013.jpg  \n",
            "  inflating: train-ds/sad-train/00000008.jpg  \n",
            "  inflating: train-ds/sad-train/00000009.jpg  \n",
            "  inflating: train-ds/sad-train/00000010.jpg  \n",
            "  inflating: train-ds/sad-train/00000011.jpg  \n",
            "  inflating: train-ds/sad-train/00000011_020.jpg  \n",
            "  inflating: train-ds/sad-train/00000012.jpg  \n",
            "  inflating: train-ds/sad-train/00000013.jpg  \n",
            "  inflating: train-ds/sad-train/00000013_011.jpg  \n",
            "  inflating: train-ds/sad-train/00000014.jpg  \n",
            "  inflating: train-ds/sad-train/00000015.jpg  \n",
            "  inflating: train-ds/sad-train/00000015_013.jpg  \n",
            "  inflating: train-ds/sad-train/00000016.jpg  \n",
            "  inflating: train-ds/sad-train/00000017.jpg  \n",
            "  inflating: train-ds/sad-train/00000018.jpg  \n",
            "  inflating: train-ds/sad-train/00000019.jpg  \n",
            "  inflating: train-ds/sad-train/00000020.jpg  \n",
            "  inflating: train-ds/sad-train/00000021.jpg  \n",
            "  inflating: train-ds/sad-train/00000022.jpg  \n",
            "  inflating: train-ds/sad-train/00000023.jpg  \n",
            "  inflating: train-ds/sad-train/00000024.jpg  \n",
            "  inflating: train-ds/sad-train/00000029.jpg  \n",
            "  inflating: train-ds/sad-train/00000030.jpg  \n",
            "  inflating: train-ds/sad-train/00000031.jpg  \n",
            "  inflating: train-ds/sad-train/00000032.jpg  \n",
            "  inflating: train-ds/sad-train/00000033.jpg  \n",
            "  inflating: train-ds/sad-train/00000034_029.jpg  \n",
            "  inflating: train-ds/sad-train/00000035.jpg  \n",
            "  inflating: train-ds/sad-train/00000037.jpg  \n",
            "  inflating: train-ds/sad-train/00000038.jpg  \n",
            "  inflating: train-ds/sad-train/00000040.jpg  \n",
            "  inflating: train-ds/sad-train/00000041.jpg  \n",
            "  inflating: train-ds/sad-train/00000042.jpg  \n",
            "  inflating: train-ds/sad-train/00000045.jpg  \n",
            "  inflating: train-ds/sad-train/00000047.jpg  \n",
            "  inflating: train-ds/sad-train/00000048.jpg  \n",
            "  inflating: train-ds/sad-train/00000051.jpg  \n",
            "  inflating: train-ds/sad-train/00000053.jpg  \n",
            "  inflating: train-ds/sad-train/00000055.jpg  \n",
            "  inflating: train-ds/sad-train/00000057.jpg  \n",
            "  inflating: train-ds/sad-train/00000058.jpg  \n",
            "  inflating: train-ds/sad-train/00000059.jpg  \n",
            "  inflating: train-ds/sad-train/00000060.jpg  \n",
            "  inflating: train-ds/sad-train/00000061.jpg  \n",
            "  inflating: train-ds/sad-train/00000064.jpg  \n",
            "  inflating: train-ds/sad-train/00000065.jpg  \n",
            "  inflating: train-ds/sad-train/00000066.jpg  \n",
            "  inflating: train-ds/sad-train/00000067.jpg  \n",
            "  inflating: train-ds/sad-train/00000068.jpg  \n",
            "  inflating: train-ds/sad-train/00000069.jpg  \n",
            "  inflating: train-ds/sad-train/00000071.jpg  \n",
            "  inflating: train-ds/sad-train/00000072.jpg  \n",
            "  inflating: train-ds/sad-train/00000074.jpg  \n",
            "  inflating: train-ds/sad-train/00000076.jpg  \n",
            "  inflating: train-ds/sad-train/00000078.jpg  \n",
            "  inflating: train-ds/sad-train/00000079_005.jpg  \n",
            "  inflating: train-ds/sad-train/00000081.jpg  \n",
            "  inflating: train-ds/sad-train/00000082.jpg  \n",
            "  inflating: train-ds/sad-train/00000083.jpg  \n",
            "  inflating: train-ds/sad-train/00000084.jpg  \n",
            "  inflating: train-ds/sad-train/00000087.jpg  \n",
            "  inflating: train-ds/sad-train/00000090.jpg  \n",
            "  inflating: train-ds/sad-train/00000090_025.jpg  \n",
            "  inflating: train-ds/sad-train/00000091.jpg  \n",
            "  inflating: train-ds/sad-train/00000092.jpg  \n",
            "  inflating: train-ds/sad-train/00000092_022.jpg  \n",
            "  inflating: train-ds/sad-train/00000095.jpg  \n",
            "  inflating: train-ds/sad-train/00000098.jpg  \n",
            "  inflating: train-ds/sad-train/00000101.jpg  \n",
            "  inflating: train-ds/sad-train/00000102.jpg  \n",
            "  inflating: train-ds/sad-train/00000104.jpg  \n",
            "  inflating: train-ds/sad-train/00000105.jpg  \n",
            "  inflating: train-ds/sad-train/00000106.jpg  \n",
            "  inflating: train-ds/sad-train/00000107.jpg  \n",
            "  inflating: train-ds/sad-train/00000108.jpg  \n",
            "  inflating: train-ds/sad-train/00000229.jpg  \n",
            "  inflating: train-ds/sad-train/00000230.jpg  \n",
            "  inflating: train-ds/sad-train/00000231.jpg  \n",
            "  inflating: train-ds/sad-train/00000235.jpg  \n",
            "  inflating: train-ds/sad-train/00000236.jpg  \n",
            "  inflating: train-ds/sad-train/00000237.jpg  \n",
            "  inflating: train-ds/sad-train/00000239.jpg  \n",
            "  inflating: train-ds/sad-train/00000240.jpg  \n",
            "  inflating: train-ds/sad-train/00000245.jpg  \n",
            "  inflating: train-ds/sad-train/00000246.jpg  \n",
            "  inflating: train-ds/sad-train/00000247.jpg  \n",
            "  inflating: train-ds/sad-train/00000249.jpg  \n",
            "  inflating: train-ds/sad-train/00000250.jpg  \n",
            "  inflating: train-ds/sad-train/00000251.jpg  \n",
            "  inflating: train-ds/sad-train/00000253.jpg  \n",
            "  inflating: train-ds/sad-train/00000255.jpg  \n",
            "  inflating: train-ds/sad-train/00000256.jpg  \n",
            "  inflating: train-ds/sad-train/00000260.jpg  \n",
            "  inflating: train-ds/sad-train/00000264.jpg  \n",
            "  inflating: train-ds/sad-train/00000268.jpg  \n",
            "  inflating: train-ds/sad-train/00000269.jpg  \n",
            "  inflating: train-ds/sad-train/00000275.jpg  \n",
            "  inflating: train-ds/sad-train/00000276.jpg  \n",
            "  inflating: train-ds/sad-train/00000277.jpg  \n",
            "  inflating: train-ds/sad-train/00000278.jpg  \n",
            "  inflating: train-ds/sad-train/00000280.jpg  \n",
            "  inflating: train-ds/sad-train/00000281.jpg  \n",
            "  inflating: train-ds/sad-train/00000282.jpg  \n",
            "  inflating: train-ds/sad-train/00000283.jpg  \n",
            "  inflating: train-ds/sad-train/00000285.jpg  \n",
            "  inflating: train-ds/sad-train/00000289.jpg  \n",
            "  inflating: train-ds/sad-train/00000291.jpg  \n",
            "  inflating: train-ds/sad-train/00000292.jpg  \n",
            "  inflating: train-ds/sad-train/00000293.jpg  \n",
            "  inflating: train-ds/sad-train/00000294.jpg  \n",
            "  inflating: train-ds/sad-train/00000296.jpg  \n",
            "  inflating: train-ds/sad-train/00000300.jpg  \n",
            "  inflating: train-ds/sad-train/00000302.jpg  \n",
            "  inflating: train-ds/sad-train/00000305.jpg  \n",
            "  inflating: train-ds/sad-train/00000306.jpg  \n",
            "  inflating: train-ds/sad-train/00000308.jpg  \n",
            "  inflating: train-ds/sad-train/00000309.jpg  \n",
            "  inflating: train-ds/sad-train/00000310.jpg  \n",
            "  inflating: train-ds/sad-train/00000313.jpg  \n",
            "  inflating: train-ds/sad-train/00000314.jpg  \n",
            "  inflating: train-ds/sad-train/00000315.jpg  \n",
            "  inflating: train-ds/sad-train/00000321.jpg  \n",
            "  inflating: train-ds/sad-train/00000323.jpg  \n",
            "  inflating: train-ds/sad-train/00000324.jpg  \n",
            "  inflating: train-ds/sad-train/00000329_016.jpg  \n",
            "  inflating: train-ds/sad-train/00000329_024.jpg  \n",
            "  inflating: train-ds/sad-train/00000330.jpg  \n",
            "  inflating: train-ds/sad-train/00000330_018.jpg  \n",
            "  inflating: train-ds/sad-train/00000330_028.jpg  \n",
            "  inflating: train-ds/sad-train/00000333_007.jpg  \n",
            "  inflating: train-ds/sad-train/00000334.jpg  \n",
            "  inflating: train-ds/sad-train/00000334_009.jpg  \n",
            "  inflating: train-ds/sad-train/00000334_016.jpg  \n",
            "  inflating: train-ds/sad-train/00000334_017.jpg  \n",
            "  inflating: train-ds/sad-train/00000335.jpg  \n",
            "  inflating: train-ds/sad-train/00000335_008.jpg  \n",
            "  inflating: train-ds/sad-train/00000335_025.jpg  \n",
            "  inflating: train-ds/sad-train/00000337.jpg  \n",
            "  inflating: train-ds/sad-train/00000338_013.jpg  \n",
            "  inflating: train-ds/sad-train/00000340.jpg  \n",
            "  inflating: train-ds/sad-train/00000342.jpg  \n",
            "  inflating: train-ds/sad-train/00000343.jpg  \n",
            "  inflating: train-ds/sad-train/00000349.jpg  \n",
            "  inflating: train-ds/sad-train/00000352.jpg  \n",
            "  inflating: train-ds/sad-train/00000353.jpg  \n",
            "  inflating: train-ds/sad-train/00000357.jpg  \n",
            "  inflating: train-ds/sad-train/00000360_014.jpg  \n",
            "  inflating: train-ds/sad-train/00000361.jpg  \n",
            "  inflating: train-ds/sad-train/00000361_025.jpg  \n",
            "  inflating: train-ds/sad-train/00000362.jpg  \n",
            "  inflating: train-ds/sad-train/00000363_003.jpg  \n",
            "  inflating: train-ds/sad-train/00000364.jpg  \n",
            "  inflating: train-ds/sad-train/00000365.jpg  \n",
            "  inflating: train-ds/sad-train/00000365_017.jpg  \n",
            "  inflating: train-ds/sad-train/00000366.jpg  \n",
            "  inflating: train-ds/sad-train/00000369.jpg  \n",
            "  inflating: train-ds/sad-train/00000373.jpg  \n",
            "  inflating: train-ds/sad-train/00000375.jpg  \n",
            "  inflating: train-ds/sad-train/00000377.jpg  \n",
            "  inflating: train-ds/sad-train/00000379.jpg  \n",
            "  inflating: train-ds/sad-train/00000381.jpg  \n",
            "  inflating: train-ds/sad-train/00000383.jpg  \n",
            "  inflating: train-ds/sad-train/00000385.jpg  \n",
            "  inflating: train-ds/sad-train/00000390.jpg  \n",
            "  inflating: train-ds/sad-train/00000391.jpg  \n",
            "  inflating: train-ds/sad-train/00000393.jpg  \n",
            "  inflating: train-ds/sad-train/00000397.jpg  \n",
            "  inflating: train-ds/sad-train/00000400.jpg  \n",
            "  inflating: train-ds/sad-train/00000405.jpg  \n",
            "  inflating: train-ds/sad-train/00000408.jpg  \n",
            "  inflating: train-ds/sad-train/00000410.jpg  \n",
            "  inflating: train-ds/sad-train/00000413.jpg  \n",
            "  inflating: train-ds/sad-train/00000417.jpg  \n",
            "  inflating: train-ds/sad-train/00000420.jpg  \n",
            "  inflating: train-ds/sad-train/00000421.jpg  \n",
            "  inflating: train-ds/sad-train/00000422.jpg  \n",
            "  inflating: train-ds/sad-train/00000423.jpg  \n",
            "  inflating: train-ds/sad-train/00000424.jpg  \n",
            "  inflating: train-ds/sad-train/00000429.jpg  \n",
            "  inflating: train-ds/sad-train/00000436.jpg  \n",
            "  inflating: train-ds/sad-train/00000438.jpg  \n",
            "  inflating: train-ds/sad-train/00000439.jpg  \n",
            "  inflating: train-ds/sad-train/00000440.jpg  \n",
            "  inflating: train-ds/sad-train/00000442.jpg  \n",
            "  inflating: train-ds/sad-train/00000446.jpg  \n",
            "  inflating: train-ds/sad-train/00000449.jpg  \n",
            "  inflating: train-ds/sad-train/00000452.jpg  \n",
            "  inflating: train-ds/sad-train/00000453.jpg  \n",
            "  inflating: train-ds/sad-train/00000456.jpg  \n",
            "  inflating: train-ds/sad-train/00000457.jpg  \n",
            "  inflating: train-ds/sad-train/00000461.jpg  \n",
            "  inflating: train-ds/sad-train/00000462.jpg  \n",
            "  inflating: train-ds/sad-train/00000464.jpg  \n",
            "  inflating: train-ds/sad-train/00000465.jpg  \n",
            "  inflating: train-ds/sad-train/00000466.jpg  \n",
            "  inflating: train-ds/sad-train/00000470.jpg  \n",
            "  inflating: train-ds/sad-train/00000475.jpg  \n",
            "  inflating: train-ds/sad-train/00000477.jpg  \n",
            "  inflating: train-ds/sad-train/00000482.jpg  \n",
            "  inflating: train-ds/sad-train/00000484.jpg  \n",
            "  inflating: train-ds/sad-train/00000485.jpg  \n",
            "  inflating: train-ds/sad-train/00000486.jpg  \n",
            "  inflating: train-ds/sad-train/00000487.jpg  \n",
            "  inflating: train-ds/sad-train/00000488.jpg  \n",
            "  inflating: train-ds/sad-train/00000489.jpg  \n",
            "  inflating: train-ds/sad-train/00000490.jpg  \n",
            "  inflating: train-ds/sad-train/00000491.jpg  \n",
            "  inflating: train-ds/sad-train/00000492.jpg  \n",
            "  inflating: train-ds/sad-train/00000493.jpg  \n",
            "  inflating: train-ds/sad-train/00000494.jpg  \n",
            "  inflating: train-ds/sad-train/00000495.jpg  \n",
            "  inflating: train-ds/sad-train/00000498.jpg  \n",
            "  inflating: train-ds/sad-train/00000499.jpg  \n",
            "  inflating: train-ds/sad-train/00000503.jpg  \n",
            "  inflating: train-ds/sad-train/00000504.jpg  \n",
            "  inflating: train-ds/sad-train/00000507.jpg  \n",
            "  inflating: train-ds/sad-train/00000508.jpg  \n",
            "  inflating: train-ds/sad-train/00000511.jpg  \n",
            "  inflating: train-ds/sad-train/00000512.jpg  \n",
            "  inflating: train-ds/sad-train/00000513.jpg  \n",
            "  inflating: train-ds/sad-train/00000514.jpg  \n",
            "  inflating: train-ds/sad-train/00000521.jpg  \n",
            "  inflating: train-ds/sad-train/00000523.jpg  \n",
            "  inflating: train-ds/sad-train/00000524.jpg  \n",
            "  inflating: train-ds/sad-train/00000525.jpg  \n",
            "  inflating: train-ds/sad-train/00000527.jpg  \n",
            "  inflating: train-ds/sad-train/00000529.jpg  \n",
            "  inflating: train-ds/sad-train/00000537.jpg  \n",
            "  inflating: train-ds/sad-train/00000538.jpg  \n",
            "  inflating: train-ds/sad-train/00000539.jpg  \n",
            "  inflating: train-ds/sad-train/00000542.jpg  \n",
            "Archive:  /content/test-ds.zip\n",
            "   creating: test-ds/happy-test/\n",
            "  inflating: test-ds/happy-test/01820e66fc6d44949fa3cb477010471b.jpg  \n",
            "  inflating: test-ds/happy-test/047300e28a3202615dc78db5dd85acd1.jpg  \n",
            "  inflating: test-ds/happy-test/08408d0eeb846417e9b216f37131fef0.jpg  \n",
            "  inflating: test-ds/happy-test/1100f199baad59a8b093cc2464e14dcf.jpg  \n",
            "  inflating: test-ds/happy-test/11650004.jpg  \n",
            "  inflating: test-ds/happy-test/152967338-happy-cat-tips-632x475.jpg  \n",
            "  inflating: test-ds/happy-test/166066073-288-k932522.jpg  \n",
            "  inflating: test-ds/happy-test/1751381644-happy-cat-cute-love.jpg  \n",
            "  inflating: test-ds/happy-test/1800x1200_why_cats_sneeze_ref_guide.jpg  \n",
            "  inflating: test-ds/happy-test/1855528936-Happy-Cat (1).jpg  \n",
            "  inflating: test-ds/happy-test/2000-cat-hero.jpg  \n",
            "  inflating: test-ds/happy-test/20200321_153138_0000 (1).jpg  \n",
            "  inflating: test-ds/happy-test/239026e7d395132d5b793de8072d-1603382.jpg  \n",
            "  inflating: test-ds/happy-test/259256-2121x1414-happy-cat.jpg  \n",
            "  inflating: test-ds/happy-test/26446470-8156647-No_laughing_matter_In_another_photograph_a_happy_cat_s_face_had_-a-1_1585294693493.jpg  \n",
            "  inflating: test-ds/happy-test/2670abd136f57a42356db22e6323c861.jpg  \n",
            "  inflating: test-ds/happy-test/2848045.jpg  \n",
            "  inflating: test-ds/happy-test/2848046.jpg  \n",
            "  inflating: test-ds/happy-test/2848086.jpg  \n",
            "  inflating: test-ds/happy-test/2919e0224e4a1a7f3766c7c885c6565d.jpg  \n",
            "  inflating: test-ds/happy-test/29477110a339d011b84eef5a7866d84b.jpg  \n",
            "  inflating: test-ds/happy-test/29506790-happy-cat.jpg  \n",
            "  inflating: test-ds/happy-test/36097852774_ef44c9b852_z.jpg  \n",
            "  inflating: test-ds/happy-test/4116db589df767eb9d6edf05e2c4e267--fa-cat-gif.jpg  \n",
            "  inflating: test-ds/happy-test/50724bb2a11f17b6ea04fb663cba6967.jpg  \n",
            "  inflating: test-ds/happy-test/60188060-happy-cat-holding-balloons-and-peeking-from-behind-empty-board-isolated-on-white-background-.jpg  \n",
            "  inflating: test-ds/happy-test/6231fd8a9d314a64f9e7ae2195fc9a5e.jpg  \n",
            "  inflating: test-ds/happy-test/6612__880.jpg  \n",
            "  inflating: test-ds/happy-test/6776e7b6ef006feb33e9be68c0bebfff.jpg  \n",
            "  inflating: test-ds/happy-test/746969a4d814d4f20d51fbf03c6f7eb9.jpg  \n",
            "  inflating: test-ds/happy-test/754268b53ca63bc637436c14e4b0a84b--fluffy-kittens-black-kittens.jpg  \n",
            "  inflating: test-ds/happy-test/76460551893649bb56414b322728098e.jpg  \n",
            "  inflating: test-ds/happy-test/7730b8bc629647a966b7225f4391af72.jpg  \n",
            "  inflating: test-ds/happy-test/807e85a985c8ca0eaa8003729a35687e--smiling-cat-cute-pics.jpg  \n",
            "  inflating: test-ds/happy-test/814nvbWCdLL.jpg  \n",
            "  inflating: test-ds/happy-test/842-8429241_games-for-cats-happy-cat.jpg  \n",
            "  inflating: test-ds/happy-test/85521936.jpg  \n",
            "  inflating: test-ds/happy-test/8673b1f22caf1c2ec066901ccd337a10.jpg  \n",
            "  inflating: test-ds/happy-test/872680452c798a3aba3dee1dafc2681a.jpg  \n",
            "  inflating: test-ds/happy-test/8732c6fc390331b5c3ac0c75c69b7ef2.jpg  \n",
            "  inflating: test-ds/happy-test/8853c4e46e4125fed16367d9689f4daa--funny-cats-funny-animals.jpg  \n",
            "  inflating: test-ds/happy-test/9384a65e258a0d0c0d4f0c3c18161eaf.jpg  \n",
            "  inflating: test-ds/happy-test/9674c8e35887dc1e39fb5fc78164adf5.jpg  \n",
            "  inflating: test-ds/happy-test/9870ecb79c44656bbaea90c52d040759--so-cute-funny-stuff.jpg  \n",
            "  inflating: test-ds/happy-test/a33a4d01f71deb8d066938bd1fe44468.jpg  \n",
            "  inflating: test-ds/happy-test/a4c70f0cccdbbe4cf5ad8b6d459726b3.jpg  \n",
            "  inflating: test-ds/happy-test/a53ed6e8ae480633b9cc7e66f1dc19fe.jpg  \n",
            "  inflating: test-ds/happy-test/a7e994c5dc2c96a10e57ed65d4ff6f54.jpg  \n",
            "  inflating: test-ds/happy-test/aa303fe7fa54efc748bbe6af70e7ed0c--gray-kitten-gray-cats.jpg  \n",
            "  inflating: test-ds/happy-test/abaea6c3d344ce18457ad73bc79553f0.jpg  \n",
            "  inflating: test-ds/happy-test/April-23-2013-22-10-51-x.jpg  \n",
            "  inflating: test-ds/happy-test/are-cats-happy-1024x573.jpg  \n",
            "  inflating: test-ds/happy-test/b23e1a203d704e77025acaf157612c16.jpg  \n",
            "  inflating: test-ds/happy-test/bbe26ea0cb10d373cbc5afdfe9fc2d2e.jpg  \n",
            "  inflating: test-ds/happy-test/bc00c26060eff88bea7239618c81bfaa.jpg  \n",
            "  inflating: test-ds/happy-test/be67afdd86b2a099a8b168bfddad5c2d.jpg  \n",
            "  inflating: test-ds/happy-test/bf235b8e02c3d5ee139dbd224d3d8d47.jpg  \n",
            "  inflating: test-ds/happy-test/bf9f08a3412a7e3dd2f09f2ea869042e.jpg  \n",
            "  inflating: test-ds/happy-test/bff5d074d399bdfec6071e9168398406.jpg  \n",
            "  inflating: test-ds/happy-test/Blue-Lynx-Mitted-Ragdoll-Cat-Trigg-11th-Birthday-IMG_5183-scaled.jpg  \n",
            "   creating: test-ds/sad-test/\n",
            "  inflating: test-ds/sad-test/00000109.jpg  \n",
            "  inflating: test-ds/sad-test/00000110.jpg  \n",
            "  inflating: test-ds/sad-test/00000111.jpg  \n",
            "  inflating: test-ds/sad-test/00000113.jpg  \n",
            "  inflating: test-ds/sad-test/00000114.jpg  \n",
            "  inflating: test-ds/sad-test/00000116.jpg  \n",
            "  inflating: test-ds/sad-test/00000117.jpg  \n",
            "  inflating: test-ds/sad-test/00000118.jpg  \n",
            "  inflating: test-ds/sad-test/00000119.jpg  \n",
            "  inflating: test-ds/sad-test/00000122.jpg  \n",
            "  inflating: test-ds/sad-test/00000125.jpg  \n",
            "  inflating: test-ds/sad-test/00000127.jpg  \n",
            "  inflating: test-ds/sad-test/00000128.jpg  \n",
            "  inflating: test-ds/sad-test/00000131.jpg  \n",
            "  inflating: test-ds/sad-test/00000132.jpg  \n",
            "  inflating: test-ds/sad-test/00000135.jpg  \n",
            "  inflating: test-ds/sad-test/00000136.jpg  \n",
            "  inflating: test-ds/sad-test/00000137.jpg  \n",
            "  inflating: test-ds/sad-test/00000138.jpg  \n",
            "  inflating: test-ds/sad-test/00000140.jpg  \n",
            "  inflating: test-ds/sad-test/00000142.jpg  \n",
            "  inflating: test-ds/sad-test/00000143.jpg  \n",
            "  inflating: test-ds/sad-test/00000145.jpg  \n",
            "  inflating: test-ds/sad-test/00000151.jpg  \n",
            "  inflating: test-ds/sad-test/00000152.jpg  \n",
            "  inflating: test-ds/sad-test/00000153.jpg  \n",
            "  inflating: test-ds/sad-test/00000154.jpg  \n",
            "  inflating: test-ds/sad-test/00000155.jpg  \n",
            "  inflating: test-ds/sad-test/00000156.jpg  \n",
            "  inflating: test-ds/sad-test/00000164.jpg  \n",
            "  inflating: test-ds/sad-test/00000165.jpg  \n",
            "  inflating: test-ds/sad-test/00000167.jpg  \n",
            "  inflating: test-ds/sad-test/00000169.jpg  \n",
            "  inflating: test-ds/sad-test/00000171.jpg  \n",
            "  inflating: test-ds/sad-test/00000172.jpg  \n",
            "  inflating: test-ds/sad-test/00000173.jpg  \n",
            "  inflating: test-ds/sad-test/00000174.jpg  \n",
            "  inflating: test-ds/sad-test/00000176.jpg  \n",
            "  inflating: test-ds/sad-test/00000177.jpg  \n",
            "  inflating: test-ds/sad-test/00000179.jpg  \n",
            "  inflating: test-ds/sad-test/00000180.jpg  \n",
            "  inflating: test-ds/sad-test/00000183.jpg  \n",
            "  inflating: test-ds/sad-test/00000184.jpg  \n",
            "  inflating: test-ds/sad-test/00000187.jpg  \n",
            "  inflating: test-ds/sad-test/00000192.jpg  \n",
            "  inflating: test-ds/sad-test/00000193.jpg  \n",
            "  inflating: test-ds/sad-test/00000199.jpg  \n",
            "  inflating: test-ds/sad-test/00000201.jpg  \n",
            "  inflating: test-ds/sad-test/00000202.jpg  \n",
            "  inflating: test-ds/sad-test/00000204.jpg  \n",
            "  inflating: test-ds/sad-test/00000208.jpg  \n",
            "  inflating: test-ds/sad-test/00000211.jpg  \n",
            "  inflating: test-ds/sad-test/00000212.jpg  \n",
            "  inflating: test-ds/sad-test/00000214.jpg  \n",
            "  inflating: test-ds/sad-test/00000215.jpg  \n",
            "  inflating: test-ds/sad-test/00000216.jpg  \n",
            "  inflating: test-ds/sad-test/00000219.jpg  \n",
            "  inflating: test-ds/sad-test/00000220.jpg  \n",
            "  inflating: test-ds/sad-test/00000222.jpg  \n",
            "  inflating: test-ds/sad-test/00000225.jpg  \n"
          ],
          "name": "stdout"
        }
      ]
    },
    {
      "cell_type": "code",
      "metadata": {
        "id": "evaXubJr0Zoa"
      },
      "source": [
        "import requests, re, time\n",
        "import torch, torchvision\n",
        "\n",
        "from torch import nn, optim\n",
        "from torchvision import datasets, models, transforms\n",
        "import matplotlib.pyplot as plt\n",
        "\n",
        "from torch.utils.mobile_optimizer import optimize_for_mobile"
      ],
      "execution_count": 2,
      "outputs": []
    },
    {
      "cell_type": "code",
      "metadata": {
        "id": "IVfWqxmmyChh"
      },
      "source": [
        "xform = transforms.Compose([transforms.Resize((224,224)), transforms.ToTensor()])\n",
        "train_dataset_full = datasets.ImageFolder('/content/train-ds', transform=xform)\n",
        "test_dataset_full = datasets.ImageFolder('/content/test-ds', transform=xform)"
      ],
      "execution_count": 3,
      "outputs": []
    },
    {
      "cell_type": "code",
      "metadata": {
        "id": "dSwzOwgNPfnT"
      },
      "source": [
        "# In case we need more data:\n",
        "\n",
        "#RandomGrayscale and RandomHorizontalFlip used here (but final probability decided on - after testing - is 1):\n",
        "yform = transforms.Compose([transforms.Resize((224,224)), transforms.ToTensor(), transforms.RandomGrayscale(1), transforms.RandomHorizontalFlip(1)])\n",
        "train_dataset_full += datasets.ImageFolder('/content//train-ds', transform=yform)\n",
        "test_dataset_full += datasets.ImageFolder('/content//test-ds', transform=yform)"
      ],
      "execution_count": 4,
      "outputs": []
    },
    {
      "cell_type": "code",
      "metadata": {
        "colab": {
          "base_uri": "https://localhost:8080/"
        },
        "id": "gU73W7WSrouk",
        "outputId": "e4ef9b4a-a502-4579-8b1b-8a1e7d7dbcfd"
      },
      "source": [
        "# len(dataset_full)"
      ],
      "execution_count": null,
      "outputs": [
        {
          "output_type": "execute_result",
          "data": {
            "text/plain": [
              "2252"
            ]
          },
          "metadata": {
            "tags": []
          },
          "execution_count": 7
        }
      ]
    },
    {
      "cell_type": "code",
      "metadata": {
        "colab": {
          "base_uri": "https://localhost:8080/"
        },
        "id": "Ur22BqRsAmW4",
        "outputId": "8d51b33b-45ba-4620-8576-c30f28eab1dc"
      },
      "source": [
        "len(train_dataset_full)"
      ],
      "execution_count": 5,
      "outputs": [
        {
          "output_type": "execute_result",
          "data": {
            "text/plain": [
              "958"
            ]
          },
          "metadata": {
            "tags": []
          },
          "execution_count": 5
        }
      ]
    },
    {
      "cell_type": "code",
      "metadata": {
        "colab": {
          "base_uri": "https://localhost:8080/"
        },
        "id": "M7-UDjXHApac",
        "outputId": "6e8386b1-caf7-4aa1-cd04-08118215d75a"
      },
      "source": [
        "len(test_dataset_full)"
      ],
      "execution_count": 6,
      "outputs": [
        {
          "output_type": "execute_result",
          "data": {
            "text/plain": [
              "240"
            ]
          },
          "metadata": {
            "tags": []
          },
          "execution_count": 6
        }
      ]
    },
    {
      "cell_type": "code",
      "metadata": {
        "colab": {
          "base_uri": "https://localhost:8080/"
        },
        "id": "Mhib1RDp_fWS",
        "outputId": "708e2f5f-c223-4b9f-d678-59569479a0a4"
      },
      "source": [
        "train_dataset_full[0][0].shape"
      ],
      "execution_count": 7,
      "outputs": [
        {
          "output_type": "execute_result",
          "data": {
            "text/plain": [
              "torch.Size([3, 224, 224])"
            ]
          },
          "metadata": {
            "tags": []
          },
          "execution_count": 7
        }
      ]
    },
    {
      "cell_type": "code",
      "metadata": {
        "colab": {
          "base_uri": "https://localhost:8080/"
        },
        "id": "jlXGdqci_V3M",
        "outputId": "be27a53a-e66d-4513-cc04-85bc5e007cc7"
      },
      "source": [
        "test_dataset_full[0][0].shape"
      ],
      "execution_count": 8,
      "outputs": [
        {
          "output_type": "execute_result",
          "data": {
            "text/plain": [
              "torch.Size([3, 224, 224])"
            ]
          },
          "metadata": {
            "tags": []
          },
          "execution_count": 8
        }
      ]
    },
    {
      "cell_type": "markdown",
      "metadata": {
        "id": "m5NB77PX6LHF"
      },
      "source": [
        "Labels for angry=0;\n",
        "happy=1;\n",
        "sad=2;\n",
        "sleepy=3\n"
      ]
    },
    {
      "cell_type": "code",
      "metadata": {
        "id": "1tN2ZOH3ACTz"
      },
      "source": [
        "dataset_train = train_dataset_full\n",
        "dataset_test = test_dataset_full"
      ],
      "execution_count": 9,
      "outputs": []
    },
    {
      "cell_type": "code",
      "metadata": {
        "colab": {
          "base_uri": "https://localhost:8080/",
          "height": 286
        },
        "id": "QdsDyb01yhiu",
        "outputId": "48b026ed-936d-4de3-96af-793b4c9c662a"
      },
      "source": [
        "# Checking contents:\n",
        "plt.imshow(dataset_train[46][0].permute(1,2,0))"
      ],
      "execution_count": 10,
      "outputs": [
        {
          "output_type": "execute_result",
          "data": {
            "text/plain": [
              "<matplotlib.image.AxesImage at 0x7fd0e4425810>"
            ]
          },
          "metadata": {
            "tags": []
          },
          "execution_count": 10
        },
        {
          "output_type": "display_data",
          "data": {
            "image/png": "[encoded data removed]",
            "text/plain": [
              "<Figure size 432x288 with 1 Axes>"
            ]
          },
          "metadata": {
            "tags": [],
            "needs_background": "light"
          }
        }
      ]
    },
    {
      "cell_type": "code",
      "metadata": {
        "colab": {
          "base_uri": "https://localhost:8080/",
          "height": 286
        },
        "id": "7dA-S_WdyiTm",
        "outputId": "b86abf56-1b8f-4d83-f090-b67e1e651cd2"
      },
      "source": [
        "# Checking contents:\n",
        "plt.imshow(dataset_test[46][0].permute(1,2,0))"
      ],
      "execution_count": 11,
      "outputs": [
        {
          "output_type": "execute_result",
          "data": {
            "text/plain": [
              "<matplotlib.image.AxesImage at 0x7fd08fca47d0>"
            ]
          },
          "metadata": {
            "tags": []
          },
          "execution_count": 11
        },
        {
          "output_type": "display_data",
          "data": {
            "image/png": "[encoded data removed]",
            "text/plain": [
              "<Figure size 432x288 with 1 Axes>"
            ]
          },
          "metadata": {
            "tags": [],
            "needs_background": "light"
          }
        }
      ]
    },
    {
      "cell_type": "code",
      "metadata": {
        "id": "WwCNKJhW9PLY"
      },
      "source": [
        "#dataset_test_correctlabel=[(sample,label-1) for sample,label in dataset_test]\n",
        "#dataset_train_correctlabel=[(sample,label-1) for sample,label in dataset_train]"
      ],
      "execution_count": null,
      "outputs": []
    },
    {
      "cell_type": "code",
      "metadata": {
        "id": "rk9I7OOi6QXc"
      },
      "source": [
        "loader_train = torch.utils.data.DataLoader(dataset_train, batch_size = 4, shuffle=True)\n",
        "loader_test = torch.utils.data.DataLoader(dataset_test, batch_size = 4, shuffle=True)"
      ],
      "execution_count": 12,
      "outputs": []
    },
    {
      "cell_type": "code",
      "metadata": {
        "id": "iKauHhuB65rt",
        "colab": {
          "base_uri": "https://localhost:8080/",
          "height": 83,
          "referenced_widgets": [
            "c6b254fe90a74b66810ead8fb19876af",
            "add7c6d6d9b4410eba70e24212832702",
            "ce3e74e22943433a8569f29ab7e211bb",
            "5cce56c1bb2d4c76b1d504c05aaa0176",
            "c44128f1a08449e18a81266ce9e53273",
            "ab1707fd67e346a793bd230b0e47de18",
            "e93d7d9c912748b28111202ed59bdcab",
            "f117162629e94f85b22cca3e6c7e6cba"
          ]
        },
        "outputId": "74014ccf-e649-4474-fce6-b35852634581"
      },
      "source": [
        "model = models.resnet18(pretrained=True)"
      ],
      "execution_count": 13,
      "outputs": [
        {
          "output_type": "stream",
          "text": [
            "Downloading: \"https://download.pytorch.org/models/resnet18-5c106cde.pth\" to /root/.cache/torch/hub/checkpoints/resnet18-5c106cde.pth\n"
          ],
          "name": "stderr"
        },
        {
          "output_type": "display_data",
          "data": {
            "application/vnd.jupyter.widget-view+json": {
              "model_id": "c6b254fe90a74b66810ead8fb19876af",
              "version_minor": 0,
              "version_major": 2
            },
            "text/plain": [
              "HBox(children=(FloatProgress(value=0.0, max=46827520.0), HTML(value='')))"
            ]
          },
          "metadata": {
            "tags": []
          }
        },
        {
          "output_type": "stream",
          "text": [
            "\n"
          ],
          "name": "stdout"
        }
      ]
    },
    {
      "cell_type": "code",
      "metadata": {
        "colab": {
          "base_uri": "https://localhost:8080/"
        },
        "id": "8LehpBi26_o_",
        "outputId": "d1235bd3-c499-4feb-a954-6ba32fe66b32"
      },
      "source": [
        "model.fc"
      ],
      "execution_count": 14,
      "outputs": [
        {
          "output_type": "execute_result",
          "data": {
            "text/plain": [
              "Linear(in_features=512, out_features=1000, bias=True)"
            ]
          },
          "metadata": {
            "tags": []
          },
          "execution_count": 14
        }
      ]
    },
    {
      "cell_type": "code",
      "metadata": {
        "colab": {
          "base_uri": "https://localhost:8080/"
        },
        "id": "qtKds9h-7Ab6",
        "outputId": "3995c678-8778-45e4-c89e-6881381a9dd7"
      },
      "source": [
        "model.fc = nn.Linear(model.fc.in_features, 4)\n",
        "torch.nn.init.xavier_uniform_(model.fc.weight)"
      ],
      "execution_count": 15,
      "outputs": [
        {
          "output_type": "execute_result",
          "data": {
            "text/plain": [
              "Parameter containing:\n",
              "tensor([[ 0.0609, -0.0690,  0.0445,  ..., -0.0013, -0.0052,  0.0700],\n",
              "        [-0.0615, -0.0253,  0.0578,  ..., -0.1027,  0.0001, -0.0791],\n",
              "        [-0.0817,  0.0278,  0.0599,  ..., -0.0189, -0.0286,  0.0517],\n",
              "        [ 0.0346,  0.0225,  0.0178,  ..., -0.0144, -0.0883, -0.0613]],\n",
              "       requires_grad=True)"
            ]
          },
          "metadata": {
            "tags": []
          },
          "execution_count": 15
        }
      ]
    },
    {
      "cell_type": "code",
      "metadata": {
        "colab": {
          "base_uri": "https://localhost:8080/"
        },
        "id": "aIdwgd067AWt",
        "outputId": "fc6514a1-d2ec-498a-94ad-ffdf15a2308d"
      },
      "source": [
        "torch.cuda.device_count()"
      ],
      "execution_count": 16,
      "outputs": [
        {
          "output_type": "execute_result",
          "data": {
            "text/plain": [
              "1"
            ]
          },
          "metadata": {
            "tags": []
          },
          "execution_count": 16
        }
      ]
    },
    {
      "cell_type": "code",
      "metadata": {
        "id": "1ysBS7qM7r36"
      },
      "source": [
        "device = torch.device('cuda:0')\n",
        "model = model.to(device)"
      ],
      "execution_count": 17,
      "outputs": []
    },
    {
      "cell_type": "code",
      "metadata": {
        "id": "OhGKZa6D_2cJ"
      },
      "source": [
        "# Created class that takes learning rate, momentum factor, learning rate scheduler, and minibatch size to easily change variables and experiment for Task 5\n",
        "class TransferLearning:\n",
        "\n",
        "\n",
        "   def __init__(self, learning_rate, momentum_factor, learning_rate_scheduler, minibatch_size, stepSize):\n",
        "     self.criterion = nn.CrossEntropyLoss()\n",
        "     self.optimizer = optim.SGD(model.parameters(), lr=learning_rate, momentum=momentum_factor)\n",
        "     self.scheduler = optim.lr_scheduler.StepLR(self.optimizer, step_size=stepSize, gamma=learning_rate_scheduler)\n",
        "     self.loss_test = 0;\n",
        "     self.epoch_num = 0;\n",
        "  \n",
        "   def run_test(self, model):\n",
        "     nsamples_test = len(dataset_test)\n",
        "     loss, correct = 0, 0\n",
        "     model.eval()\n",
        "     with torch.no_grad():\n",
        "         for samples, labels in loader_test:\n",
        "             samples = samples.to(device)\n",
        "             labels = labels.to(device)\n",
        "             outs = model(samples)\n",
        "             loss += self.criterion(outs, labels)\n",
        "             _, preds = torch.max(outs.detach(), 1)\n",
        "             correct_mask = preds == labels\n",
        "             correct += correct_mask.sum(0).item()\n",
        "     return loss / nsamples_test, correct / nsamples_test\n",
        "\n",
        "   def run_train(self, model):\n",
        "     nsamples_train = len(dataset_train)\n",
        "     loss_sofar, correct_sofar = 0, 0\n",
        "     model.train()\n",
        "     with torch.enable_grad():\n",
        "         for samples, labels in loader_train:\n",
        "             samples = samples.to(device)\n",
        "             labels = labels.to(device)\n",
        "             self.optimizer.zero_grad()\n",
        "             outs = model(samples)\n",
        "             _, preds = torch.max(outs.detach(), 1)\n",
        "             loss = self.criterion(outs, labels)\n",
        "             loss.backward()\n",
        "             self.optimizer.step()\n",
        "             loss_sofar += loss.item() * samples.size(0)\n",
        "             correct_sofar += torch.sum(preds == labels.detach())\n",
        "     self.scheduler.step()\n",
        "     return loss_sofar / nsamples_train, correct_sofar / nsamples_train\n",
        "\n",
        "   def run_all(self, model, n_epochs):\n",
        "     for epoch in range(n_epochs):\n",
        "         loss_train, acc_train = self.run_train(model)\n",
        "         self.loss_test, acc_test = self.run_test(model)\n",
        "         print(f\"epoch {self.epoch_num + epoch}: train loss {loss_train:.4f} acc {acc_train:.4f}, test loss {self.loss_test:.4f} acc {acc_test:.4f}\")\n",
        "     self.epoch_num = self.epoch_num + n_epochs"
      ],
      "execution_count": 18,
      "outputs": []
    },
    {
      "cell_type": "code",
      "metadata": {
        "id": "m4kHDK-3_-iv",
        "colab": {
          "base_uri": "https://localhost:8080/"
        },
        "outputId": "d1e366f2-27ee-4caf-d342-6f41390c86ed"
      },
      "source": [
        "# accuracy without training\n",
        "learn = TransferLearning(0.0005, 0.9, 0.1, 10, 4)\n",
        "learn.run_test(model)"
      ],
      "execution_count": 19,
      "outputs": [
        {
          "output_type": "execute_result",
          "data": {
            "text/plain": [
              "(tensor(0.5861, device='cuda:0'), 0.09583333333333334)"
            ]
          },
          "metadata": {
            "tags": []
          },
          "execution_count": 19
        }
      ]
    },
    {
      "cell_type": "code",
      "metadata": {
        "id": "43_vTlwTQKa6",
        "colab": {
          "base_uri": "https://localhost:8080/"
        },
        "outputId": "3e708413-91b4-4281-d53e-464406ceb166"
      },
      "source": [
        "learn.run_all(model, 10)\n",
        "prev_loss = learn.loss_test\n",
        "\n",
        "while True:\n",
        "  learn.run_all(model, 1)\n",
        "  loss_difference = prev_loss - learn.loss_test\n",
        "  if (learn.epoch_num > 20):\n",
        "    break\n",
        "  prev_loss = learn.loss_test"
      ],
      "execution_count": 20,
      "outputs": [
        {
          "output_type": "stream",
          "text": [
            "epoch 0: train loss 0.6916 acc 0.6816, test loss 0.1253 acc 0.7958\n",
            "epoch 1: train loss 0.4478 acc 0.8184, test loss 0.1174 acc 0.8417\n",
            "epoch 2: train loss 0.3049 acc 0.8716, test loss 0.0953 acc 0.8542\n",
            "epoch 3: train loss 0.3072 acc 0.8873, test loss 0.1063 acc 0.8208\n",
            "epoch 4: train loss 0.1913 acc 0.9228, test loss 0.0971 acc 0.8625\n",
            "epoch 5: train loss 0.2001 acc 0.9228, test loss 0.0969 acc 0.8500\n",
            "epoch 6: train loss 0.1902 acc 0.9113, test loss 0.0863 acc 0.8667\n",
            "epoch 7: train loss 0.1427 acc 0.9374, test loss 0.0906 acc 0.8750\n",
            "epoch 8: train loss 0.1562 acc 0.9269, test loss 0.1195 acc 0.8417\n",
            "epoch 9: train loss 0.1689 acc 0.9322, test loss 0.0964 acc 0.8583\n",
            "epoch 10: train loss 0.1716 acc 0.9301, test loss 0.0940 acc 0.8667\n",
            "epoch 11: train loss 0.1676 acc 0.9259, test loss 0.0963 acc 0.8708\n",
            "epoch 12: train loss 0.1605 acc 0.9322, test loss 0.1084 acc 0.8458\n",
            "epoch 13: train loss 0.1960 acc 0.9071, test loss 0.0944 acc 0.8542\n",
            "epoch 14: train loss 0.1487 acc 0.9447, test loss 0.0982 acc 0.8625\n",
            "epoch 15: train loss 0.1787 acc 0.9238, test loss 0.0887 acc 0.8792\n",
            "epoch 16: train loss 0.1693 acc 0.9332, test loss 0.0898 acc 0.8625\n",
            "epoch 17: train loss 0.1420 acc 0.9415, test loss 0.0978 acc 0.8542\n",
            "epoch 18: train loss 0.1860 acc 0.9228, test loss 0.0929 acc 0.8500\n",
            "epoch 19: train loss 0.1780 acc 0.9290, test loss 0.1007 acc 0.8625\n",
            "epoch 20: train loss 0.1269 acc 0.9489, test loss 0.0879 acc 0.8750\n"
          ],
          "name": "stdout"
        }
      ]
    },
    {
      "cell_type": "markdown",
      "metadata": {
        "id": "MJl5Js1ABtMe"
      },
      "source": [
        ""
      ]
    },
    {
      "cell_type": "markdown",
      "metadata": {
        "id": "_r80EqnenLHI"
      },
      "source": [
        "Optimizing Parameters:\n",
        "\n",
        "* Top section of the table contains optimized parameters that are compatible with our app integration model\n",
        "\n",
        "* Bottom section of the table contains overall optimized parameters (not necessarily compatible with app)\n",
        "\n",
        "| learning rate | momentum | step size | gamma | minibatch | test loss | test acc | best epoch |\n",
        "|---------------|----------|-----------|-------|-----------|-----------|----------|------------|\n",
        "| ...           | ...      | ...       | ...   | ...       | ...       | ...      | ...        |\n",
        "| **0.0005** | **0.9** | **8** | **0.1** | 1 | 0.2718  | 0.7035| 14\n",
        "| **0.0005** | **0.9** | **8** | 0.9 | 1 | 0.3730  | 0.6504| 10\n",
        "| **0.0005** | **0.9** | **8** | 0.5 | 1 | 0.3148  | 0.6770| 9\n",
        "| **0.0005** | **0.9** | 4 | 0.1 | 1 | 0.2684  | 0.6504| 10\n",
        "| **0.0005** | **0.9** | 12 | 0.1 | 1 | 0.3088  | 0.6726| 17\n",
        "| **0.0005** | **0.9** | 10 | 0.1 | 1 | 0.3179  | 0.6681| 19\n",
        "| **0.0005** | **0.9** | 5 | 0.1 | 1 | 0.2794  | 0.6637| 16\n",
        "| **0.0005** | 0.5 | **8** | 0.1 | 1 | 0.2414  | 0.6593 | 6\n",
        "| **0.0005** | 0.2 | **8** | 0.1 | 1 | 0.2622  | 0.6239 | 13\n",
        "| 0.005 | **0.9** | **8** | 0.1 | 1 | 0.4175  | 0.4248 | 10\n",
        "| 0.01 | **0.9** | **8** | 0.1 | 1 | 0.3620  | 0.3850 | 12\n",
        "| 0.000001 | **0.9** | **8** | 0.1 | 1 | 0.3788 | 0.3496 | 12\n",
        "| 0.1 | **0.9** | **8** | 0.1 | 1 | 0.3922 | 0.3142 | 19\n",
        "| 0.001 | **0.9** | **8** | 0.1 | 1 | 0.3316 | 0.6549 | 11\n",
        "| ... | ... | ... | ... | ... | ... | ... | ... |\n",
        "| 0.001 | 0.9 | 8 | 0.1 | 5 | 0.3408 | 0.6637 | 20\n",
        "| 0.1 | 0.9 | 8 | 0.1 | 5 | 0.3492 | 0.4027 | 12\n",
        "| 0.000001 | 0.9 | 8 | 0.1 | 5 | 0.4359 | 0.3363 | 20\n",
        "| 0.01 | 0.9 | 8 | 0.1 | 5 | 0.3217 | 0.4292 | 20\n",
        "| 0.005 | 0.9 | 8 | 0.1 | 5 | 0.3417 | 0.4381 | 8\n",
        "| **0.0005** | 0.5 | 8 | 0.1 | 5 | 0.2521 | 0.6062 | 11\n",
        "| **0.0005** | 0.2| 8 | 0.1 | 5 | 0.2577 | 0.6239 | 14\n",
        "| **0.0005** | 0.8| 8 | 0.1 | 5 | 0.2682 | 0.6681 | 11\n",
        "| **0.0005** | **0.9** | 5 | 0.1 | 5 | 0.3160 | 0.6549 | 19\n",
        "| **0.0005** | **0.9** | 10 | 0.1 | 5 | 0.2862 | 0.6858 | 14\n",
        "| **0.0005** | **0.9** | 12 | 0.1 | 5 | 0.3171 | 0.6637 | 16\n",
        "| **0.0005** | **0.9** | **8** | 0.5 | 5 | 0.3367 | 0.6726 | 17\n",
        "| **0.0005** | **0.9** | **8** | 0.9 | 5 | 0.3137 | 0.6504 | 11\n",
        "| **0.0005** | **0.9** | **8** | **0.1** | 5 | 0.2966 | 0.6903 | 20\n",
        "| **0.0005** | **0.9** | **8** | **0.1** | 8 | 0.3185 | 0.6549 | 14\n",
        "| **0.0005** | **0.9** | **8** | **0.1** | 3 | 0.2908 | 0.6814 | 11\n",
        "| **0.0005** | **0.9** | **8** | **0.1** | 2 | 0.2872 | 0.6504 | 10\n",
        "| **0.0005** | **0.9** | **8** | **0.1** | **4** | 0.2834 | 0.7168 | 20\n"
      ]
    },
    {
      "cell_type": "markdown",
      "metadata": {
        "id": "6p7F0-MCCB-x"
      },
      "source": [
        "May use transforms.Rotation/VerticalFlip/... "
      ]
    },
    {
      "cell_type": "code",
      "metadata": {
        "id": "CkJdLtuLN_wm"
      },
      "source": [
        "# Code taken from tutorial video at https://www.youtube.com/watch?v=5Lxuu16_28o&ab_channel=PyTorch\n",
        "\n",
        "# model.qconfig = torch.quantization.get_default_qconfig('qnnpack')"
      ],
      "execution_count": null,
      "outputs": []
    },
    {
      "cell_type": "code",
      "metadata": {
        "id": "4jIloeA6ODef"
      },
      "source": [
        "# torch.quantization.prepare(model,inplace=True)"
      ],
      "execution_count": null,
      "outputs": []
    },
    {
      "cell_type": "code",
      "metadata": {
        "id": "ievDTQNNOHXI"
      },
      "source": [
        "# def calibrate(model,calibration_data):\n",
        "#   return\n",
        "# calibrate(model, [])"
      ],
      "execution_count": null,
      "outputs": []
    },
    {
      "cell_type": "code",
      "metadata": {
        "id": "UqBL20Q-OH3L"
      },
      "source": [
        "# model_quant = torch.quantization.QuantStub()"
      ],
      "execution_count": null,
      "outputs": []
    },
    {
      "cell_type": "code",
      "metadata": {
        "id": "1tWAsofaOMLX"
      },
      "source": [
        "# model = torch.quantization.convert(model_quant,inplace=True)"
      ],
      "execution_count": null,
      "outputs": []
    },
    {
      "cell_type": "markdown",
      "metadata": {
        "id": "RSijlwYUxius"
      },
      "source": [
        "- cpu_model = gpu_model.cpu()\n",
        "- sample_input_cpu = sample_input_gpu.cpu()\n",
        "- traced_cpu = torch.jit.trace(traced_cpu, sample_input_cpu)\n",
        "- torch.jit.save(traced_cpu, \"cpu.pth\")"
      ]
    },
    {
      "cell_type": "code",
      "metadata": {
        "id": "58xWvlNAu2H5"
      },
      "source": [
        "cpu_model = model.cpu()\n",
        "example = torch.rand(1, 3, 224, 224)\n",
        "traced_cpu = torch.jit.trace(cpu_model, example)\n",
        "torch.jit.save(traced_cpu, \"cpu_model.pt\")"
      ],
      "execution_count": 21,
      "outputs": []
    },
    {
      "cell_type": "code",
      "metadata": {
        "id": "yKjJfjG8OOlD"
      },
      "source": [
        "#  torchscript_model = torch.jit.script(model)"
      ],
      "execution_count": null,
      "outputs": []
    },
    {
      "cell_type": "code",
      "metadata": {
        "id": "_fbwwGDfORKz"
      },
      "source": [
        "# torchscript_model_optimized = optimize_for_mobile(torchscript_model)"
      ],
      "execution_count": null,
      "outputs": []
    },
    {
      "cell_type": "code",
      "metadata": {
        "id": "QBozR_h0zt3S"
      },
      "source": [
        "# model.eval()"
      ],
      "execution_count": null,
      "outputs": []
    },
    {
      "cell_type": "code",
      "metadata": {
        "id": "NPgT4vytJpsi"
      },
      "source": [
        "# # example = torch.rand(1, 3, 224, 224)\n",
        "# traced_script_module = torch.jit.script(model)\n",
        "# traced_script_module.save(\"model.pt\")"
      ],
      "execution_count": null,
      "outputs": []
    },
    {
      "cell_type": "code",
      "metadata": {
        "id": "JkVg63-IcLkp"
      },
      "source": [
        "# example"
      ],
      "execution_count": null,
      "outputs": []
    },
    {
      "cell_type": "code",
      "metadata": {
        "id": "hesTDl9KOWAQ"
      },
      "source": [
        "# torch.jit.save(torchscript_model_optimized, 'image_model.pt')"
      ],
      "execution_count": null,
      "outputs": []
    },
    {
      "cell_type": "code",
      "metadata": {
        "id": "hvHs4m6SifBT"
      },
      "source": [
        "# i = 0\n",
        "# for samples,labels in loader_test:\n",
        "#   s = (samples)\n",
        "#   l = labels\n",
        "#   samples = samples.to(device)\n",
        "#   s = samples\n",
        "#   out = model(samples)\n",
        "#   i+= 1\n",
        "#   if i == 11:\n",
        "#     break"
      ],
      "execution_count": null,
      "outputs": []
    },
    {
      "cell_type": "code",
      "metadata": {
        "id": "pC6yeT65sOYr"
      },
      "source": [
        "# out"
      ],
      "execution_count": null,
      "outputs": []
    },
    {
      "cell_type": "code",
      "metadata": {
        "id": "pAF6U_A3jOfv"
      },
      "source": [
        "# model.eval()"
      ],
      "execution_count": null,
      "outputs": []
    },
    {
      "cell_type": "code",
      "metadata": {
        "id": "TwKbGHnWmPR4"
      },
      "source": [
        "# s.shape"
      ],
      "execution_count": null,
      "outputs": []
    },
    {
      "cell_type": "code",
      "metadata": {
        "id": "9Sz7DVFetppa"
      },
      "source": [
        "# l"
      ],
      "execution_count": null,
      "outputs": []
    },
    {
      "cell_type": "code",
      "metadata": {
        "id": "_XjUBtGYne2n"
      },
      "source": [
        "# s.shape"
      ],
      "execution_count": null,
      "outputs": []
    },
    {
      "cell_type": "code",
      "metadata": {
        "id": "fEIOelqjFec3"
      },
      "source": [
        "# out.shape"
      ],
      "execution_count": null,
      "outputs": []
    },
    {
      "cell_type": "code",
      "metadata": {
        "id": "ywoMtSRGrBKn"
      },
      "source": [
        "# t,p = torch.max(out,1)"
      ],
      "execution_count": null,
      "outputs": []
    },
    {
      "cell_type": "code",
      "metadata": {
        "id": "P_iV1YVlyCgj"
      },
      "source": [
        "# t.shape"
      ],
      "execution_count": null,
      "outputs": []
    },
    {
      "cell_type": "code",
      "metadata": {
        "id": "OBDdDfd_rkHl"
      },
      "source": [
        "# p.shape"
      ],
      "execution_count": null,
      "outputs": []
    },
    {
      "cell_type": "code",
      "metadata": {
        "id": "Hewu9XbUBSr7"
      },
      "source": [
        "# p.to(device)"
      ],
      "execution_count": null,
      "outputs": []
    },
    {
      "cell_type": "code",
      "metadata": {
        "id": "xLg9KRx3tVCY"
      },
      "source": [
        "torch.sum(p== l.detach())"
      ],
      "execution_count": null,
      "outputs": []
    },
    {
      "cell_type": "code",
      "metadata": {
        "id": "djY3XHm1i7qt"
      },
      "source": [
        "out = model(s)"
      ],
      "execution_count": null,
      "outputs": []
    },
    {
      "cell_type": "code",
      "metadata": {
        "id": "iQR09cRGjJvl"
      },
      "source": [
        "out"
      ],
      "execution_count": null,
      "outputs": []
    },
    {
      "cell_type": "code",
      "metadata": {
        "id": "O0OUU3_wl3bh"
      },
      "source": [
        "out.detach()"
      ],
      "execution_count": null,
      "outputs": []
    }
  ]
}